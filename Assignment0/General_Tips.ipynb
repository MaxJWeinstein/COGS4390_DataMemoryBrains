{
 "cells": [
  {
   "cell_type": "markdown",
   "id": "d09407ce-0fea-4d95-af9b-a657dfa71938",
   "metadata": {
    "tags": []
   },
   "source": [
    "## General Tips"
   ]
  },
  {
   "cell_type": "markdown",
   "id": "19c0f072-d3b7-43ef-ad5e-377721b2ea5d",
   "metadata": {},
   "source": [
    "Here are some broader tips about how to approach programming for these assignments:"
   ]
  },
  {
   "cell_type": "markdown",
   "id": "2c3cecfb-ce58-47dc-b271-15a1b6e9d69d",
   "metadata": {},
   "source": [
    "* Take advantage of the Notebook format. You can write and run one line of code at a time, you can check the value of your variables or check if a function does what you think it does. It is completely allowed to re-run cells from earlier in the Notebook, e.g. if you've messed something up and want to retrace your steps.\n",
    "\n",
    "* Try to break up problems into smaller pieces -- divide and conquer. This has a few corollaries:\n",
    "\n",
    "    * Test your code on small parts of your whole dataset: just one subject, just one session, just a few rows of a DataFrame. Then work your way up from there.\n",
    "    \n",
    "    * Similarly, first write code that handles the analysis on a lower level. In our case, this is usually a single experimental session of a subject. Once you have code working on the lower levels, place the code in a function so that you can reuse it to analyze the next highest level of the data (for us, usually all the experimental sessions of a subject, and then all of the subjects).\n",
    "    \n",
    "    * It can help when writing code to first plan out the steps, either with a to-do list of comments:\n",
    "            \n",
    "            def my_analysis(subjects):\n",
    "                # Get each subject's sessions\n",
    "                \n",
    "                # For each subject, analyze their sessions and combine the results\n",
    "                \n",
    "                # Combine the subject-level results\n",
    "                \n",
    "                # Alright, time to get crackin'!\n",
    "            \n",
    "        or by writing the top-level code but skipping over the details by wrapping them in not-yet-defined functions:\n",
    "        \n",
    "            def my_analysis(subjects):\n",
    "                for sub in subjects:\n",
    "                    sub_results = analyze_subject(sub) ### <-- We haven't written this function yet, we're just trying to figure out what functions we need to write\n",
    "                # ... and so on ...\n",
    "        \n",
    "* Save intermediate results that take a while to compute as files\n",
    "\n",
    "    * But be mindful of file size! A good rule of thumb is to only save *dimensionally-reduced* results, no more than 3 coordinates\n",
    "    \n",
    "    * You can also have some Boolean variables that indicate whether you've already saved the results of a piece of code, so that restarting your kernel and running all of the cells doesn't cause that computation to start over\n",
    "\n",
    "* Google (or any search engine of your choice) is your best friend! Even the most experienced programmers are often looking up how to do \"simple\" things, and searching through documentation, blog posts, and StackOverflow posts to figure out their problems\n",
    "\n",
    "    * Also, don't forget that running `<object>?` in IPython/Jupyter will give you the documentation for that object -- even for internal CML libraries!\n",
    "\n",
    "    * But don't get caught up with figuring out libraries. A library doesn't always have the function you want, and some times you just need to write it out yourself\n",
    "\n",
    "* If you find yourself repeatedly writing lines of code that are similar, consider whether you can wrap that code in a function"
   ]
  }
 ],
 "metadata": {
  "kernelspec": {
   "display_name": "",
   "name": ""
  },
  "language_info": {
   "name": ""
  }
 },
 "nbformat": 4,
 "nbformat_minor": 5
}
