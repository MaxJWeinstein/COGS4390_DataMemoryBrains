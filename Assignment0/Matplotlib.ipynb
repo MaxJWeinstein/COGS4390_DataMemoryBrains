{
 "cells": [
  {
   "cell_type": "code",
   "execution_count": null,
   "id": "664fc8b4-d8c1-483c-a1a1-7a1168fa71b4",
   "metadata": {},
   "outputs": [],
   "source": []
  }
 ],
 "metadata": {
  "kernelspec": {
   "display_name": "workshop",
   "language": "python",
   "name": "workshop"
  },
  "language_info": {
   "codemirror_mode": {
    "name": "ipython",
    "version": 3
   },
   "file_extension": ".py",
   "mimetype": "text/x-python",
   "name": "python",
   "nbconvert_exporter": "python",
   "pygments_lexer": "ipython3",
   "version": "3.7.6"
  }
 },
 "nbformat": 4,
 "nbformat_minor": 5
}
