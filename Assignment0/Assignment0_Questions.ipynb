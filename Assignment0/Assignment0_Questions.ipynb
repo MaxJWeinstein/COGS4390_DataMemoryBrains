{
 "cells": [
  {
   "cell_type": "markdown",
   "id": "8daad422-b077-47ad-8758-0fef1e766443",
   "metadata": {
    "tags": []
   },
   "source": [
    "# Assignment 0 Questions"
   ]
  },
  {
   "cell_type": "markdown",
   "id": "42bf129d-a760-47fe-aa61-c34f261b8bff",
   "metadata": {},
   "source": [
    "Add your answers to this Notebook. Some questions have templates to get your answer started, but feel free to add code cells as necessary."
   ]
  },
  {
   "cell_type": "markdown",
   "id": "36deaa59-f689-48c0-8239-3862bcff31c6",
   "metadata": {
    "tags": []
   },
   "source": [
    "## 1.) Error-Handling and Functions"
   ]
  },
  {
   "cell_type": "markdown",
   "id": "2172fa0a-0d45-4328-9cb5-79ea008ef1ab",
   "metadata": {},
   "source": [
    "### (a)\n",
    "\n",
    "We will write a few versions of a function, `find_extremes`, that takes an ordinary Python list and returns a tuple containing the smallest and largest elements, in that order. Assume that the list elements can be of types:\n",
    "\n",
    "- Any built-in numeric type convertable to a float\n",
    "\n",
    "- String\n",
    "\n",
    "For this part of the question, write a version that only accepts nonempty lists of numbers, and raises a `ValueError` otherwise, describing the issue:"
   ]
  },
  {
   "cell_type": "code",
   "execution_count": 1,
   "id": "1fe65427-2959-4be7-9fd2-d591974aceff",
   "metadata": {
    "execution": {
     "iopub.execute_input": "2023-08-03T21:05:41.370549Z",
     "iopub.status.busy": "2023-08-03T21:05:41.370184Z",
     "iopub.status.idle": "2023-08-03T21:05:41.375792Z",
     "shell.execute_reply": "2023-08-03T21:05:41.374790Z",
     "shell.execute_reply.started": "2023-08-03T21:05:41.370424Z"
    },
    "tags": []
   },
   "outputs": [],
   "source": [
    "# Example input\n",
    "a = [2, 1, -4, 0.5, True, [3], [6,3], \"hello\", \"-6\"]"
   ]
  },
  {
   "cell_type": "code",
   "execution_count": 2,
   "id": "55e609ac-cfdd-49d1-a365-e1fbcb971756",
   "metadata": {
    "execution": {
     "iopub.execute_input": "2023-08-03T21:05:41.378778Z",
     "iopub.status.busy": "2023-08-03T21:05:41.378315Z",
     "iopub.status.idle": "2023-08-03T21:05:41.382572Z",
     "shell.execute_reply": "2023-08-03T21:05:41.381668Z",
     "shell.execute_reply.started": "2023-08-03T21:05:41.378738Z"
    },
    "tags": []
   },
   "outputs": [],
   "source": [
    "def find_extremes(arr):\n",
    "    # TODO\n",
    "    return"
   ]
  },
  {
   "cell_type": "markdown",
   "id": "a55d2192-f7dd-46ea-a312-183793ee5344",
   "metadata": {},
   "source": [
    "### (b)\n",
    "\n",
    "Write a version of `find_extremes` that skips non-number elements. It should still raise an error if appropriate."
   ]
  },
  {
   "cell_type": "code",
   "execution_count": 3,
   "id": "7c4adc00-e902-4281-ac90-8c1515ab796f",
   "metadata": {
    "execution": {
     "iopub.execute_input": "2023-08-03T21:05:41.384791Z",
     "iopub.status.busy": "2023-08-03T21:05:41.384499Z",
     "iopub.status.idle": "2023-08-03T21:05:41.389910Z",
     "shell.execute_reply": "2023-08-03T21:05:41.388327Z",
     "shell.execute_reply.started": "2023-08-03T21:05:41.384753Z"
    }
   },
   "outputs": [],
   "source": [
    "def find_extremes(arr):\n",
    "    # TODO\n",
    "    return"
   ]
  },
  {
   "cell_type": "markdown",
   "id": "9db74896-47c6-4497-ac83-f5b7e8b2a1e8",
   "metadata": {},
   "source": [
    "### (c)\n",
    "\n",
    "It turns out that you can compare strings with strings (also lists with lists, and tuples with tuples) using `<`. Write a version of `find_extremes` that works with any list of compatibly-typed objects. It should still raise an error if appropriate."
   ]
  },
  {
   "cell_type": "code",
   "execution_count": 4,
   "id": "c132bda5-e5da-4853-a4c5-255493f57e5b",
   "metadata": {
    "execution": {
     "iopub.execute_input": "2023-08-03T21:05:41.391283Z",
     "iopub.status.busy": "2023-08-03T21:05:41.391006Z",
     "iopub.status.idle": "2023-08-03T21:05:41.396157Z",
     "shell.execute_reply": "2023-08-03T21:05:41.394367Z",
     "shell.execute_reply.started": "2023-08-03T21:05:41.391245Z"
    }
   },
   "outputs": [],
   "source": [
    "def find_extremes(arr):\n",
    "    # TODO\n",
    "    return"
   ]
  },
  {
   "cell_type": "markdown",
   "id": "1d1ed7e9-bda4-44a2-8ddd-5b18cad37f5e",
   "metadata": {
    "tags": []
   },
   "source": [
    "## 2.) Arrays"
   ]
  },
  {
   "cell_type": "code",
   "execution_count": 5,
   "id": "5f16a912-95b1-49bd-9498-6590deb40824",
   "metadata": {
    "execution": {
     "iopub.execute_input": "2023-08-03T21:05:41.397618Z",
     "iopub.status.busy": "2023-08-03T21:05:41.397333Z",
     "iopub.status.idle": "2023-08-03T21:05:41.506067Z",
     "shell.execute_reply": "2023-08-03T21:05:41.505345Z",
     "shell.execute_reply.started": "2023-08-03T21:05:41.397579Z"
    },
    "tags": []
   },
   "outputs": [
    {
     "data": {
      "text/plain": [
       "array([[1., 1., 1., 1., 0., 0., 0., 0., 0., 0., 0., 0., 0., 0., 0., 0.],\n",
       "       [1., 1., 1., 1., 0., 0., 0., 0., 0., 0., 0., 0., 0., 0., 0., 0.],\n",
       "       [1., 1., 1., 1., 0., 0., 0., 0., 0., 0., 0., 0., 0., 0., 0., 0.],\n",
       "       [1., 1., 1., 1., 0., 0., 0., 0., 0., 0., 0., 0., 0., 0., 0., 0.],\n",
       "       [0., 0., 0., 0., 2., 2., 2., 2., 0., 0., 0., 0., 0., 0., 0., 0.],\n",
       "       [0., 0., 0., 0., 2., 2., 2., 2., 0., 0., 0., 0., 0., 0., 0., 0.],\n",
       "       [0., 0., 0., 0., 2., 2., 2., 2., 0., 0., 0., 0., 0., 0., 0., 0.],\n",
       "       [0., 0., 0., 0., 2., 2., 2., 2., 0., 0., 0., 0., 0., 0., 0., 0.],\n",
       "       [0., 0., 0., 0., 0., 0., 0., 0., 3., 3., 3., 3., 0., 0., 0., 0.],\n",
       "       [0., 0., 0., 0., 0., 0., 0., 0., 3., 3., 3., 3., 0., 0., 0., 0.],\n",
       "       [0., 0., 0., 0., 0., 0., 0., 0., 3., 3., 3., 3., 0., 0., 0., 0.],\n",
       "       [0., 0., 0., 0., 0., 0., 0., 0., 3., 3., 3., 3., 0., 0., 0., 0.],\n",
       "       [0., 0., 0., 0., 0., 0., 0., 0., 0., 0., 0., 0., 4., 4., 4., 4.],\n",
       "       [0., 0., 0., 0., 0., 0., 0., 0., 0., 0., 0., 0., 4., 4., 4., 4.],\n",
       "       [0., 0., 0., 0., 0., 0., 0., 0., 0., 0., 0., 0., 4., 4., 4., 4.],\n",
       "       [0., 0., 0., 0., 0., 0., 0., 0., 0., 0., 0., 0., 4., 4., 4., 4.]])"
      ]
     },
     "execution_count": 5,
     "metadata": {},
     "output_type": "execute_result"
    }
   ],
   "source": [
    "import numpy as np\n",
    "tiled = np.zeros((16,16))\n",
    "for i in range(4):\n",
    "    tiled[4*i : 4*(i+1), 4*i : 4*(i+1)] = i+1\n",
    "tiled"
   ]
  },
  {
   "cell_type": "markdown",
   "id": "a822f1e7-6364-419f-b298-d2fc1dbe6664",
   "metadata": {},
   "source": [
    "### (a)\n",
    "\n",
    "Find the indices of the non-zero elements of `tiled`. That is, for every item in this array, find its row/column if it is not equal to zero. Your answer will have 2 rows: one corresponding to row position, the other corresponding to column position."
   ]
  },
  {
   "cell_type": "code",
   "execution_count": 6,
   "id": "d228f3a5-8f73-4de0-a6c7-d3fc8c50bf55",
   "metadata": {
    "execution": {
     "iopub.execute_input": "2023-08-03T21:05:41.507577Z",
     "iopub.status.busy": "2023-08-03T21:05:41.507283Z",
     "iopub.status.idle": "2023-08-03T21:05:41.512656Z",
     "shell.execute_reply": "2023-08-03T21:05:41.511854Z",
     "shell.execute_reply.started": "2023-08-03T21:05:41.507535Z"
    },
    "tags": []
   },
   "outputs": [
    {
     "name": "stdout",
     "output_type": "stream",
     "text": [
      "False\n"
     ]
    }
   ],
   "source": [
    "# Your answer should make this print 'True'\n",
    "non_zero_indices = np.array([])\n",
    "print(np.array(non_zero_indices).shape == (2, 64))"
   ]
  },
  {
   "cell_type": "markdown",
   "id": "d1de128e-3dca-4da4-b43a-92e54faf76c3",
   "metadata": {},
   "source": [
    "### (b)\n",
    "\n",
    "Take only the non-zero entries of `tiled`, and compute the mean and standard deviation."
   ]
  },
  {
   "cell_type": "code",
   "execution_count": 7,
   "id": "41f9276a-0d35-4d89-b4ce-9f474f27836c",
   "metadata": {
    "execution": {
     "iopub.execute_input": "2023-08-03T21:05:41.514128Z",
     "iopub.status.busy": "2023-08-03T21:05:41.513851Z",
     "iopub.status.idle": "2023-08-03T21:05:41.519159Z",
     "shell.execute_reply": "2023-08-03T21:05:41.517635Z",
     "shell.execute_reply.started": "2023-08-03T21:05:41.514089Z"
    }
   },
   "outputs": [],
   "source": [
    "# YOUR CODE HERE"
   ]
  },
  {
   "cell_type": "markdown",
   "id": "cf7f2083-e3f0-4a5a-9525-ce1df2a893d2",
   "metadata": {},
   "source": [
    "### (c)\n",
    "\n",
    "We're going to work with NaNs now. First, turn all the zeroes in `tiled` into NaNs"
   ]
  },
  {
   "cell_type": "code",
   "execution_count": 8,
   "id": "f713d700-2ce2-4ec1-878d-d28869dfeed5",
   "metadata": {
    "execution": {
     "iopub.execute_input": "2023-08-03T21:05:41.522183Z",
     "iopub.status.busy": "2023-08-03T21:05:41.521905Z",
     "iopub.status.idle": "2023-08-03T21:05:41.527994Z",
     "shell.execute_reply": "2023-08-03T21:05:41.527096Z",
     "shell.execute_reply.started": "2023-08-03T21:05:41.522143Z"
    }
   },
   "outputs": [],
   "source": [
    "# YOUR CODE HERE"
   ]
  },
  {
   "cell_type": "markdown",
   "id": "ce8e63e2-2e40-45fc-a7cf-3ed063dfce0b",
   "metadata": {},
   "source": [
    "### (d)\n",
    "\n",
    "Take the non-NaN entries of `tiled`, and compute the mean and standard deviation. This can be done with one NumPy function - find it."
   ]
  },
  {
   "cell_type": "code",
   "execution_count": 9,
   "id": "f0ccc18a-b78a-4af1-889c-26c0280e86e2",
   "metadata": {
    "execution": {
     "iopub.execute_input": "2023-08-03T21:05:41.532687Z",
     "iopub.status.busy": "2023-08-03T21:05:41.532143Z",
     "iopub.status.idle": "2023-08-03T21:05:41.537356Z",
     "shell.execute_reply": "2023-08-03T21:05:41.535444Z",
     "shell.execute_reply.started": "2023-08-03T21:05:41.532647Z"
    }
   },
   "outputs": [],
   "source": [
    "# YOUR CODE HERE"
   ]
  },
  {
   "cell_type": "markdown",
   "id": "9b29b60d-3feb-45b6-868f-fd008a3ee599",
   "metadata": {},
   "source": [
    "### (e)\n",
    "\n",
    "Now let's do something slightly more complicated:\n",
    "\n",
    "1. Split `tiled` into 25 distinct 3x3 tiles. The tiles should start in the top left of the array, and you won't include anything from the last row or column.\n",
    "2. Compute the mean of each tile, ignoring NaNs.\n",
    "3. Save the mean of each tile as an element in a new 5x5 array. For example, the second tile in the third row would be index [2, 1] in this new array.\n",
    "4. Pickle this new array into a `results` directory (creating this directory if it doesn't exist)"
   ]
  },
  {
   "cell_type": "code",
   "execution_count": 10,
   "id": "a2d110bb-728c-45a6-964b-c4bb303c25b4",
   "metadata": {
    "execution": {
     "iopub.execute_input": "2023-08-03T21:05:41.539050Z",
     "iopub.status.busy": "2023-08-03T21:05:41.538622Z",
     "iopub.status.idle": "2023-08-03T21:05:41.543645Z",
     "shell.execute_reply": "2023-08-03T21:05:41.541750Z",
     "shell.execute_reply.started": "2023-08-03T21:05:41.539011Z"
    }
   },
   "outputs": [],
   "source": [
    "# YOUR CODE HERE"
   ]
  },
  {
   "cell_type": "markdown",
   "id": "3d50d199-86e7-4303-824b-e4fe480cadf6",
   "metadata": {
    "tags": []
   },
   "source": [
    "## 3.) Plotting with matplotlib"
   ]
  },
  {
   "cell_type": "markdown",
   "id": "af212e0f-8947-49a4-9e00-45ea67159331",
   "metadata": {
    "tags": []
   },
   "source": [
    "In order to make sure you have a grasp on matplotlib, you will take the array provided below and plot its columns.\n",
    "\n",
    "The first column is the independent data (x). All other columns are the dependent data (y).\n",
    "\n",
    "Plot them all on the same graph, and add a legend with labels corresponding to each of the plots."
   ]
  },
  {
   "cell_type": "code",
   "execution_count": 11,
   "id": "32c02a5f-110b-461a-bb75-8d02838b8c31",
   "metadata": {
    "execution": {
     "iopub.execute_input": "2023-08-03T21:05:41.545288Z",
     "iopub.status.busy": "2023-08-03T21:05:41.544842Z",
     "iopub.status.idle": "2023-08-03T21:05:41.563408Z",
     "shell.execute_reply": "2023-08-03T21:05:41.562715Z",
     "shell.execute_reply.started": "2023-08-03T21:05:41.545248Z"
    }
   },
   "outputs": [],
   "source": [
    "data = np.empty((20, 5))\n",
    "\n",
    "data[:, 0] = np.arange(-10, 10)\n",
    "data[:, 1] = 0.1*data[:, 0]\n",
    "data[:, 2] = 0.05*data[:, 0]**2\n",
    "data[:, 3] = np.sin(data[:, 0])\n",
    "data[:, 4] = np.arctan(data[:, 0])"
   ]
  },
  {
   "cell_type": "markdown",
   "id": "1b7cf3da-0e81-4134-9768-27e9a803ade5",
   "metadata": {},
   "source": [
    "Plot the line in blue, the parabola in red, the sine wave in orange and the arctangent curve in green."
   ]
  },
  {
   "cell_type": "code",
   "execution_count": 12,
   "id": "fd874293-6389-4e82-9e12-25ff327ec86d",
   "metadata": {
    "execution": {
     "iopub.execute_input": "2023-08-03T21:05:41.564790Z",
     "iopub.status.busy": "2023-08-03T21:05:41.564475Z",
     "iopub.status.idle": "2023-08-03T21:05:41.569800Z",
     "shell.execute_reply": "2023-08-03T21:05:41.568764Z",
     "shell.execute_reply.started": "2023-08-03T21:05:41.564751Z"
    }
   },
   "outputs": [],
   "source": [
    "# YOUR CODE HERE"
   ]
  },
  {
   "cell_type": "markdown",
   "id": "535e42b7-ffda-4cf1-a5e7-65b6f3a5295b",
   "metadata": {
    "tags": []
   },
   "source": [
    "## 4.) Data Analysis"
   ]
  },
  {
   "cell_type": "markdown",
   "id": "2e9913f4-e863-472c-8f3d-e03c54d4d616",
   "metadata": {},
   "source": [
    "We will go through the basics of analyzing behavioral data. The data we will use is a simplified version of the kind of datasets you will work with in the next assignment. The numbers are random, so your results will look random, too."
   ]
  },
  {
   "cell_type": "code",
   "execution_count": 13,
   "id": "22722bd1-9e29-4ff9-8649-a4c5857af978",
   "metadata": {
    "execution": {
     "iopub.execute_input": "2023-08-03T21:05:41.571558Z",
     "iopub.status.busy": "2023-08-03T21:05:41.571058Z",
     "iopub.status.idle": "2023-08-03T21:05:41.804930Z",
     "shell.execute_reply": "2023-08-03T21:05:41.804345Z",
     "shell.execute_reply.started": "2023-08-03T21:05:41.571508Z"
    },
    "tags": []
   },
   "outputs": [],
   "source": [
    "# Use these functions to load the data\n",
    "import pandas as pd\n",
    "def get_example_data_index():\n",
    "    '''Returns a DataFrame where each row contains metadata for an available experimental session'''\n",
    "    return pd.read_csv(f\"example_data/data_index.csv\")\n",
    "    \n",
    "def load_example_session(subject, session):\n",
    "    '''Parameters:\n",
    "        subject: subject code (string)\n",
    "        session: session number (zero-indexed)\n",
    "    Returns:\n",
    "        events: DataFrame logging behavioral data from the requested experimental session'''\n",
    "    return pd.read_csv(f\"example_data/subject_{subject}/session_{session}.csv\")"
   ]
  },
  {
   "cell_type": "code",
   "execution_count": 14,
   "id": "3c0643a2-7a1c-41f7-8186-515546470d27",
   "metadata": {
    "execution": {
     "iopub.execute_input": "2023-08-03T21:05:41.806349Z",
     "iopub.status.busy": "2023-08-03T21:05:41.806062Z",
     "iopub.status.idle": "2023-08-03T21:05:41.821660Z",
     "shell.execute_reply": "2023-08-03T21:05:41.820820Z",
     "shell.execute_reply.started": "2023-08-03T21:05:41.806296Z"
    }
   },
   "outputs": [
    {
     "data": {
      "text/html": [
       "<div>\n",
       "<style scoped>\n",
       "    .dataframe tbody tr th:only-of-type {\n",
       "        vertical-align: middle;\n",
       "    }\n",
       "\n",
       "    .dataframe tbody tr th {\n",
       "        vertical-align: top;\n",
       "    }\n",
       "\n",
       "    .dataframe thead th {\n",
       "        text-align: right;\n",
       "    }\n",
       "</style>\n",
       "<table border=\"1\" class=\"dataframe\">\n",
       "  <thead>\n",
       "    <tr style=\"text-align: right;\">\n",
       "      <th></th>\n",
       "      <th>experiment</th>\n",
       "      <th>session</th>\n",
       "      <th>subject</th>\n",
       "    </tr>\n",
       "  </thead>\n",
       "  <tbody>\n",
       "    <tr>\n",
       "      <th>0</th>\n",
       "      <td>ltpFR2</td>\n",
       "      <td>0</td>\n",
       "      <td>LTP000</td>\n",
       "    </tr>\n",
       "    <tr>\n",
       "      <th>1</th>\n",
       "      <td>ltpFR2</td>\n",
       "      <td>1</td>\n",
       "      <td>LTP000</td>\n",
       "    </tr>\n",
       "    <tr>\n",
       "      <th>2</th>\n",
       "      <td>ltpFR2</td>\n",
       "      <td>2</td>\n",
       "      <td>LTP000</td>\n",
       "    </tr>\n",
       "    <tr>\n",
       "      <th>3</th>\n",
       "      <td>ltpFR2</td>\n",
       "      <td>3</td>\n",
       "      <td>LTP000</td>\n",
       "    </tr>\n",
       "  </tbody>\n",
       "</table>\n",
       "</div>"
      ],
      "text/plain": [
       "  experiment  session subject\n",
       "0     ltpFR2        0  LTP000\n",
       "1     ltpFR2        1  LTP000\n",
       "2     ltpFR2        2  LTP000\n",
       "3     ltpFR2        3  LTP000"
      ]
     },
     "execution_count": 14,
     "metadata": {},
     "output_type": "execute_result"
    }
   ],
   "source": [
    "# Loading the data\n",
    "df = get_example_data_index()\n",
    "df"
   ]
  },
  {
   "cell_type": "code",
   "execution_count": 15,
   "id": "81fbfea8-1362-4c40-985e-13e92f542b90",
   "metadata": {
    "execution": {
     "iopub.execute_input": "2023-08-03T21:05:41.823262Z",
     "iopub.status.busy": "2023-08-03T21:05:41.822723Z",
     "iopub.status.idle": "2023-08-03T21:05:41.843035Z",
     "shell.execute_reply": "2023-08-03T21:05:41.842385Z",
     "shell.execute_reply.started": "2023-08-03T21:05:41.823222Z"
    },
    "tags": []
   },
   "outputs": [
    {
     "data": {
      "text/html": [
       "<div>\n",
       "<style scoped>\n",
       "    .dataframe tbody tr th:only-of-type {\n",
       "        vertical-align: middle;\n",
       "    }\n",
       "\n",
       "    .dataframe tbody tr th {\n",
       "        vertical-align: top;\n",
       "    }\n",
       "\n",
       "    .dataframe thead th {\n",
       "        text-align: right;\n",
       "    }\n",
       "</style>\n",
       "<table border=\"1\" class=\"dataframe\">\n",
       "  <thead>\n",
       "    <tr style=\"text-align: right;\">\n",
       "      <th></th>\n",
       "      <th>subject</th>\n",
       "      <th>time</th>\n",
       "      <th>session</th>\n",
       "      <th>list</th>\n",
       "      <th>serial_pos</th>\n",
       "      <th>type</th>\n",
       "      <th>item</th>\n",
       "      <th>recalled</th>\n",
       "    </tr>\n",
       "  </thead>\n",
       "  <tbody>\n",
       "    <tr>\n",
       "      <th>0</th>\n",
       "      <td>LTP000</td>\n",
       "      <td>0.000000</td>\n",
       "      <td>0</td>\n",
       "      <td>1</td>\n",
       "      <td>1</td>\n",
       "      <td>WORD</td>\n",
       "      <td>ALIQUAM</td>\n",
       "      <td>0</td>\n",
       "    </tr>\n",
       "    <tr>\n",
       "      <th>1</th>\n",
       "      <td>LTP000</td>\n",
       "      <td>2657.702258</td>\n",
       "      <td>0</td>\n",
       "      <td>1</td>\n",
       "      <td>2</td>\n",
       "      <td>WORD</td>\n",
       "      <td>FERMENTUM</td>\n",
       "      <td>0</td>\n",
       "    </tr>\n",
       "    <tr>\n",
       "      <th>2</th>\n",
       "      <td>LTP000</td>\n",
       "      <td>4261.343509</td>\n",
       "      <td>0</td>\n",
       "      <td>1</td>\n",
       "      <td>3</td>\n",
       "      <td>WORD</td>\n",
       "      <td>MORBI</td>\n",
       "      <td>1</td>\n",
       "    </tr>\n",
       "    <tr>\n",
       "      <th>3</th>\n",
       "      <td>LTP000</td>\n",
       "      <td>6805.025174</td>\n",
       "      <td>0</td>\n",
       "      <td>1</td>\n",
       "      <td>4</td>\n",
       "      <td>WORD</td>\n",
       "      <td>AMET</td>\n",
       "      <td>0</td>\n",
       "    </tr>\n",
       "    <tr>\n",
       "      <th>4</th>\n",
       "      <td>LTP000</td>\n",
       "      <td>6962.010991</td>\n",
       "      <td>0</td>\n",
       "      <td>2</td>\n",
       "      <td>1</td>\n",
       "      <td>WORD</td>\n",
       "      <td>FAMES</td>\n",
       "      <td>0</td>\n",
       "    </tr>\n",
       "    <tr>\n",
       "      <th>5</th>\n",
       "      <td>LTP000</td>\n",
       "      <td>9557.563338</td>\n",
       "      <td>0</td>\n",
       "      <td>2</td>\n",
       "      <td>2</td>\n",
       "      <td>WORD</td>\n",
       "      <td>ANTE</td>\n",
       "      <td>1</td>\n",
       "    </tr>\n",
       "    <tr>\n",
       "      <th>6</th>\n",
       "      <td>LTP000</td>\n",
       "      <td>12140.294917</td>\n",
       "      <td>0</td>\n",
       "      <td>2</td>\n",
       "      <td>3</td>\n",
       "      <td>WORD</td>\n",
       "      <td>DOLOR</td>\n",
       "      <td>0</td>\n",
       "    </tr>\n",
       "    <tr>\n",
       "      <th>7</th>\n",
       "      <td>LTP000</td>\n",
       "      <td>14111.234255</td>\n",
       "      <td>0</td>\n",
       "      <td>2</td>\n",
       "      <td>4</td>\n",
       "      <td>WORD</td>\n",
       "      <td>AENEAN</td>\n",
       "      <td>1</td>\n",
       "    </tr>\n",
       "    <tr>\n",
       "      <th>8</th>\n",
       "      <td>LTP000</td>\n",
       "      <td>15754.742672</td>\n",
       "      <td>0</td>\n",
       "      <td>3</td>\n",
       "      <td>1</td>\n",
       "      <td>WORD</td>\n",
       "      <td>LOBORTIS</td>\n",
       "      <td>1</td>\n",
       "    </tr>\n",
       "    <tr>\n",
       "      <th>9</th>\n",
       "      <td>LTP000</td>\n",
       "      <td>17697.015088</td>\n",
       "      <td>0</td>\n",
       "      <td>3</td>\n",
       "      <td>2</td>\n",
       "      <td>WORD</td>\n",
       "      <td>IN</td>\n",
       "      <td>1</td>\n",
       "    </tr>\n",
       "    <tr>\n",
       "      <th>10</th>\n",
       "      <td>LTP000</td>\n",
       "      <td>18668.202675</td>\n",
       "      <td>0</td>\n",
       "      <td>3</td>\n",
       "      <td>3</td>\n",
       "      <td>WORD</td>\n",
       "      <td>MOLLIS</td>\n",
       "      <td>1</td>\n",
       "    </tr>\n",
       "    <tr>\n",
       "      <th>11</th>\n",
       "      <td>LTP000</td>\n",
       "      <td>21037.250610</td>\n",
       "      <td>0</td>\n",
       "      <td>3</td>\n",
       "      <td>4</td>\n",
       "      <td>WORD</td>\n",
       "      <td>ELEMENTUM</td>\n",
       "      <td>0</td>\n",
       "    </tr>\n",
       "    <tr>\n",
       "      <th>12</th>\n",
       "      <td>LTP000</td>\n",
       "      <td>23947.623235</td>\n",
       "      <td>0</td>\n",
       "      <td>4</td>\n",
       "      <td>1</td>\n",
       "      <td>WORD</td>\n",
       "      <td>CONSECTETUR</td>\n",
       "      <td>0</td>\n",
       "    </tr>\n",
       "    <tr>\n",
       "      <th>13</th>\n",
       "      <td>LTP000</td>\n",
       "      <td>25786.373445</td>\n",
       "      <td>0</td>\n",
       "      <td>4</td>\n",
       "      <td>2</td>\n",
       "      <td>WORD</td>\n",
       "      <td>EST</td>\n",
       "      <td>0</td>\n",
       "    </tr>\n",
       "    <tr>\n",
       "      <th>14</th>\n",
       "      <td>LTP000</td>\n",
       "      <td>26765.805230</td>\n",
       "      <td>0</td>\n",
       "      <td>4</td>\n",
       "      <td>3</td>\n",
       "      <td>WORD</td>\n",
       "      <td>DIAM</td>\n",
       "      <td>0</td>\n",
       "    </tr>\n",
       "    <tr>\n",
       "      <th>15</th>\n",
       "      <td>LTP000</td>\n",
       "      <td>28520.095653</td>\n",
       "      <td>0</td>\n",
       "      <td>4</td>\n",
       "      <td>4</td>\n",
       "      <td>WORD</td>\n",
       "      <td>IPSUM</td>\n",
       "      <td>1</td>\n",
       "    </tr>\n",
       "  </tbody>\n",
       "</table>\n",
       "</div>"
      ],
      "text/plain": [
       "   subject          time  session  list  serial_pos  type         item  \\\n",
       "0   LTP000      0.000000        0     1           1  WORD      ALIQUAM   \n",
       "1   LTP000   2657.702258        0     1           2  WORD    FERMENTUM   \n",
       "2   LTP000   4261.343509        0     1           3  WORD        MORBI   \n",
       "3   LTP000   6805.025174        0     1           4  WORD         AMET   \n",
       "4   LTP000   6962.010991        0     2           1  WORD        FAMES   \n",
       "5   LTP000   9557.563338        0     2           2  WORD         ANTE   \n",
       "6   LTP000  12140.294917        0     2           3  WORD        DOLOR   \n",
       "7   LTP000  14111.234255        0     2           4  WORD       AENEAN   \n",
       "8   LTP000  15754.742672        0     3           1  WORD     LOBORTIS   \n",
       "9   LTP000  17697.015088        0     3           2  WORD           IN   \n",
       "10  LTP000  18668.202675        0     3           3  WORD       MOLLIS   \n",
       "11  LTP000  21037.250610        0     3           4  WORD    ELEMENTUM   \n",
       "12  LTP000  23947.623235        0     4           1  WORD  CONSECTETUR   \n",
       "13  LTP000  25786.373445        0     4           2  WORD          EST   \n",
       "14  LTP000  26765.805230        0     4           3  WORD         DIAM   \n",
       "15  LTP000  28520.095653        0     4           4  WORD        IPSUM   \n",
       "\n",
       "    recalled  \n",
       "0          0  \n",
       "1          0  \n",
       "2          1  \n",
       "3          0  \n",
       "4          0  \n",
       "5          1  \n",
       "6          0  \n",
       "7          1  \n",
       "8          1  \n",
       "9          1  \n",
       "10         1  \n",
       "11         0  \n",
       "12         0  \n",
       "13         0  \n",
       "14         0  \n",
       "15         1  "
      ]
     },
     "execution_count": 15,
     "metadata": {},
     "output_type": "execute_result"
    }
   ],
   "source": [
    "sess = df.query('session == 0').iloc[0]\n",
    "load_example_session(sess.subject, sess.session)"
   ]
  },
  {
   "cell_type": "markdown",
   "id": "3ddccead-977b-4398-ab3a-c26138935a5c",
   "metadata": {},
   "source": [
    "### (a)\n",
    "\n",
    "As we can see by using `get_example_data_index`, we have one subject, who completed 4 sessions. The \"events\" DataFrame contains all of the presented words, when they were presented, in which \"list\" they were presented, in which position in the list (\"serial position\") they were presented, and whether or not they were successfully recalled.\n",
    "\n",
    "Let's start slow. In our subject's first session (so session 0), for the first word list, what was their recall rate? (That is, what fraction of the words were successfully recalled later?)"
   ]
  },
  {
   "cell_type": "code",
   "execution_count": null,
   "id": "1ccdf581-aeb1-4ea3-9b6c-62760fe48afa",
   "metadata": {},
   "outputs": [],
   "source": []
  },
  {
   "cell_type": "markdown",
   "id": "c0f5ca6e-6f9b-44ad-b239-f66dd3f48599",
   "metadata": {},
   "source": [
    "### (b)\n",
    "\n",
    "Still focusing on the first session -- create a Series containing the recall rate for each word list, and compute the average recall rate across the word lists in this session"
   ]
  },
  {
   "cell_type": "code",
   "execution_count": null,
   "id": "17ee2dc6-7437-466a-bd01-b714971bfed2",
   "metadata": {},
   "outputs": [],
   "source": []
  },
  {
   "cell_type": "markdown",
   "id": "720f9f83-b57f-4f67-8ba0-17d52a3102c8",
   "metadata": {},
   "source": [
    "### (c)\n",
    "\n",
    "For the first session, across all word lists, calculate recall rate as a function of serial position. Phrased differently: how often was the first item (or second item, third item, or fourth item) in a word list later successfully recalled?"
   ]
  },
  {
   "cell_type": "code",
   "execution_count": null,
   "id": "0abc5eaf-41ba-42ef-9cea-0633e6d2bf15",
   "metadata": {},
   "outputs": [],
   "source": []
  },
  {
   "cell_type": "markdown",
   "id": "cbf94532-874d-40cb-b788-b459445770ae",
   "metadata": {},
   "source": [
    "### (d)\n",
    "\n",
    "Before moving on to incorporating all of the sessions, let's plot some of our intermediate data. Make two plots of recall rate: one as a function of list number, the other as a function of serial position"
   ]
  },
  {
   "cell_type": "code",
   "execution_count": null,
   "id": "36690b56-cdb2-467c-b23b-ef755c44538e",
   "metadata": {},
   "outputs": [],
   "source": []
  },
  {
   "cell_type": "code",
   "execution_count": null,
   "id": "d1afc72e-08cf-44ec-8ecb-8c1b9343311f",
   "metadata": {},
   "outputs": [],
   "source": []
  },
  {
   "cell_type": "markdown",
   "id": "b5793d94-8a30-4752-9b15-ac3bf9bb4b42",
   "metadata": {},
   "source": [
    "### (e)\n",
    "\n",
    "Now we're going to combine all of the subject's sessions! For each session, calculate recall rate as a function of list number (this is what you did in part (b)). Then average these results across all sessions to get the average recall rate as a function of list number. Plot these final results"
   ]
  },
  {
   "cell_type": "code",
   "execution_count": null,
   "id": "f6938e9a-66f4-40db-a2df-bedd5c9bc7e6",
   "metadata": {},
   "outputs": [],
   "source": []
  }
 ],
 "metadata": {
  "kernelspec": {
   "display_name": "workshop",
   "language": "python",
   "name": "workshop"
  },
  "language_info": {
   "codemirror_mode": {
    "name": "ipython",
    "version": 3
   },
   "file_extension": ".py",
   "mimetype": "text/x-python",
   "name": "python",
   "nbconvert_exporter": "python",
   "pygments_lexer": "ipython3",
   "version": "3.7.6"
  }
 },
 "nbformat": 4,
 "nbformat_minor": 5
}
