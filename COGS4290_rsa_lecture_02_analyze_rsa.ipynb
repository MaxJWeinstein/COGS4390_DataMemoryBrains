{
 "cells": [
  {
   "cell_type": "markdown",
   "id": "ac1c82b1-a201-4de7-a889-7e3ff2fc1e1f",
   "metadata": {},
   "source": [
    "COGS 4290 RSA\n",
    "\n",
    "David Halpern 4/4/23"
   ]
  },
  {
   "cell_type": "code",
   "execution_count": 1,
   "id": "4b6b5407-9402-4698-8d99-99ada50820de",
   "metadata": {
    "tags": []
   },
   "outputs": [
    {
     "name": "stderr",
     "output_type": "stream",
     "text": [
      "In /usr/global/Anaconda/2019-10/envs/cml37/lib/python3.7/site-packages/matplotlib/mpl-data/stylelib/_classic_test.mplstyle: \n",
      "The text.latex.preview rcparam was deprecated in Matplotlib 3.3 and will be removed two minor releases later.\n",
      "In /usr/global/Anaconda/2019-10/envs/cml37/lib/python3.7/site-packages/matplotlib/mpl-data/stylelib/_classic_test.mplstyle: \n",
      "The mathtext.fallback_to_cm rcparam was deprecated in Matplotlib 3.3 and will be removed two minor releases later.\n",
      "In /usr/global/Anaconda/2019-10/envs/cml37/lib/python3.7/site-packages/matplotlib/mpl-data/stylelib/_classic_test.mplstyle: Support for setting the 'mathtext.fallback_to_cm' rcParam is deprecated since 3.3 and will be removed two minor releases later; use 'mathtext.fallback : 'cm' instead.\n",
      "In /usr/global/Anaconda/2019-10/envs/cml37/lib/python3.7/site-packages/matplotlib/mpl-data/stylelib/_classic_test.mplstyle: \n",
      "The validate_bool_maybe_none function was deprecated in Matplotlib 3.3 and will be removed two minor releases later.\n",
      "In /usr/global/Anaconda/2019-10/envs/cml37/lib/python3.7/site-packages/matplotlib/mpl-data/stylelib/_classic_test.mplstyle: \n",
      "The savefig.jpeg_quality rcparam was deprecated in Matplotlib 3.3 and will be removed two minor releases later.\n",
      "In /usr/global/Anaconda/2019-10/envs/cml37/lib/python3.7/site-packages/matplotlib/mpl-data/stylelib/_classic_test.mplstyle: \n",
      "The keymap.all_axes rcparam was deprecated in Matplotlib 3.3 and will be removed two minor releases later.\n",
      "In /usr/global/Anaconda/2019-10/envs/cml37/lib/python3.7/site-packages/matplotlib/mpl-data/stylelib/_classic_test.mplstyle: \n",
      "The animation.avconv_path rcparam was deprecated in Matplotlib 3.3 and will be removed two minor releases later.\n",
      "In /usr/global/Anaconda/2019-10/envs/cml37/lib/python3.7/site-packages/matplotlib/mpl-data/stylelib/_classic_test.mplstyle: \n",
      "The animation.avconv_args rcparam was deprecated in Matplotlib 3.3 and will be removed two minor releases later.\n"
     ]
    }
   ],
   "source": [
    "%matplotlib inline\n",
    "import pandas as pd\n",
    "import seaborn as sns"
   ]
  },
  {
   "cell_type": "code",
   "execution_count": 2,
   "id": "7d919066-5c06-4b6a-9237-b1be0a7ca939",
   "metadata": {
    "tags": []
   },
   "outputs": [
    {
     "name": "stderr",
     "output_type": "stream",
     "text": [
      "/usr/global/Anaconda/2019-10/envs/cml37/lib/python3.7/site-packages/IPython/core/interactiveshell.py:3444: DtypeWarning: Columns (4,26,47,52) have mixed types.Specify dtype option on import or set low_memory=False.\n",
      "  exec(code_obj, self.user_global_ns, self.user_ns)\n",
      "/usr/global/Anaconda/2019-10/envs/cml37/lib/python3.7/site-packages/IPython/core/interactiveshell.py:3444: DtypeWarning: Columns (4,26,50,55) have mixed types.Specify dtype option on import or set low_memory=False.\n",
      "  exec(code_obj, self.user_global_ns, self.user_ns)\n"
     ]
    }
   ],
   "source": [
    "save_path = '/scratch/djh/rsa_class/'\n",
    "raw_WORD_rsa_df = pd.read_csv(save_path + 'raw_WORD_rsa_df.csv')\n",
    "raw_REC_WORD_rsa_df = pd.read_csv(save_path + 'raw_REC_WORD_rsa_df.csv')"
   ]
  },
  {
   "cell_type": "markdown",
   "id": "3787af02-d484-4185-9ee2-13aa3c5d8f66",
   "metadata": {
    "tags": []
   },
   "source": [
    "# Across-list category similarity"
   ]
  },
  {
   "cell_type": "markdown",
   "id": "027ad0c1-4c7e-4236-a758-c0c7755d9d01",
   "metadata": {},
   "source": [
    "We'll start by looking at a classic result from [Haxby et al. (2001)](https://www.science.org/doi/10.1126/science.1063736). They presented subjects with images from eight different categories:"
   ]
  },
  {
   "cell_type": "markdown",
   "id": "45a2884b-e668-44bb-85f7-541ec9da138b",
   "metadata": {},
   "source": [
    "<center>\n",
    "    <img src=\"figures/HaxbyEtal01_fig2.png\" width=400>\n",
    "</center>"
   ]
  },
  {
   "cell_type": "markdown",
   "id": "580d17d2-0172-4dd2-a6ea-d364c617e47d",
   "metadata": {},
   "source": [
    "They then compared the neural representations, finding that the patterns in \"object-selective cortex\" were more similar when looking at two images from the same category than across categories!"
   ]
  },
  {
   "cell_type": "markdown",
   "id": "f2da6def-6284-4a24-9b7f-f8d7dda5c719",
   "metadata": {},
   "source": [
    "<center>\n",
    "    <img src=\"figures/HaxbyEtal01_fig4.png\" width=400>\n",
    "</center>"
   ]
  },
  {
   "cell_type": "markdown",
   "id": "cbf79d15-1713-49c5-be12-b44907a34b64",
   "metadata": {},
   "source": [
    "[Kriegeskorte et. al. (2008)](https://www.sciencedirect.com/science/article/pii/S0896627308009434) conducted a similar study using fMRI in humans and neural recordings in monkeys, showing that the categorical representation of images in Inferior Temporal (IT) cortex was similar in both:"
   ]
  },
  {
   "cell_type": "markdown",
   "id": "2da62097-4b01-4dde-a77a-e101a667de81",
   "metadata": {},
   "source": [
    "<center>\n",
    "    <img src=\"figures/KrieEtal08_fig1.png\" width=800>\n",
    "</center>"
   ]
  },
  {
   "cell_type": "markdown",
   "id": "f6c773d8-dd7d-4168-b648-4199f20a8207",
   "metadata": {},
   "source": [
    "Side note: you can actually analyze the original data from this study as it's freely available along with the [pyMVPA package](http://www.pymvpa.org/) (see [here](http://www.pymvpa.org/tutorial_classifiers.html) for an example showing you how to analyze this data). pyMVPA was one of the original python packages, developed by people from Jim Haxby's and Ken Norman's labs, for performing modern cognitive neuroscience analyses. The Haxby data is also available as part of [nilearn](https://nilearn.github.io/stable/decoding/decoding_intro.html?highlight=haxby), another python package for processing fMRI data.\n",
    "\n",
    "pyMVPA was to some extent superseded by [Brainiak](brainiak.org), developed by many labs at Princeton (including Ken Norman's). Brainiak has its own RSA tutorial [here](https://brainiak.org/tutorials/06-rsa/), using data from the Kriegeskorte study. In addition, Brainiak and nilearn both have a number of other tutorials which are worth looking at if you're interested in modern fMRI methods (some of which have yet to be applied to EEG!).\n",
    "\n",
    "That being said, if you look at these tutorials, you'll see that there's nothing fancy you need to do basic RSA with a correlation metric, just the simple correlation matrix computations from numpy or xarray, so no need to install those packages aside from them being an easy way to access these older datasets! "
   ]
  },
  {
   "cell_type": "markdown",
   "id": "79ed07c8-5d9e-474f-8676-b5fd7eb0533d",
   "metadata": {},
   "source": [
    "Because this class is focused on EEG, rather than getting into the details of fMRI, we'll try to look for similar effects in one of our intracranial EEG datasets. We have a collected data from a number of patients doing a categorized free recall task (first reported [here](https://psycnet.apa.org/record/2018-66881-001), although we have a lot more data collected now!). This task is the same as a standard verbal free recall task except that the words on each list come a smaller number of categories. In this particular version, it also has a special structure, where each list has three categories and the items were presented in pairs of same-category words. The structure looks like this:"
   ]
  },
  {
   "cell_type": "markdown",
   "id": "ab176381-d92b-41ee-aa36-dd98806a3d25",
   "metadata": {},
   "source": [
    "<center>\n",
    "    <img src=\"figures/WeidEtal19_fig1_catFR.png\" width=400>\n",
    "</center>"
   ]
  },
  {
   "cell_type": "markdown",
   "id": "3898534d-9436-42ce-9450-ede4ab9959bf",
   "metadata": {},
   "source": [
    "Within a session, subjects collected early on would see at most 300 words, 12 words from each of 25 categories. After collecting data from about 120 subjects, we decided to cut the sessions in half but added another category so subjects saw 312 words from 26 categories across two \"half sessions.\" Because the words on the lists come from a small set of categories, we can try to do a similar analysis on these data as they did in the fMRI papers mentioned above, investigating whether the representations of pairs of same category words are more similar than pairs from different categories. In most RSA analyses (like above) the focus is on regions of the brain that are known to respond to the type of stimuli in question. In intracranial EEG though, we don't get to choose where in the brain we are recording from and it's not consistent across patients. Therefore, in the analyses here, to simplify things for this class, we will just use all of the electrodes we get for each patient and look at their similarity. Perhaps surprisingly, as we'll see, this seems to work ok! "
   ]
  },
  {
   "cell_type": "markdown",
   "id": "f7e78d74-ade9-4710-9807-869360b3aa04",
   "metadata": {},
   "source": [
    "In a related but slightly more complex analysis, [Kragel et al. (2021)](https://www.nature.com/articles/s41467-021-24393-1) showed that it was possible to decode the category of a word in this task from just electrodes within two specific brain regions (Posterior Medial, PM, and Anterior Temporal, AT):"
   ]
  },
  {
   "cell_type": "markdown",
   "id": "68a0301d-459e-4e5a-b82e-c029a61ee22a",
   "metadata": {},
   "source": [
    "<center>\n",
    "    <img src=\"figures/KragEtal21_fig2c.png\" width=400>\n",
    "</center>"
   ]
  },
  {
   "cell_type": "markdown",
   "id": "b1e02339-80f5-410f-a1fb-d72285e14c75",
   "metadata": {},
   "source": [
    "In addition, using data from an uncategorized free recall task, [Manning et al. (2012)](https://www.jneurosci.org/content/32/26/8871.short) showed that similarity of neural activity seemed to be related to a measure of semantic similarity for some subjects:"
   ]
  },
  {
   "cell_type": "markdown",
   "id": "cb92bca3-4194-418b-b9ce-29ddaa0f8631",
   "metadata": {},
   "source": [
    "<center>\n",
    "    <img src=\"figures/MannEtal12_fig3.png\" width=400>\n",
    "</center>"
   ]
  },
  {
   "cell_type": "markdown",
   "id": "0ec63dd7-179d-475c-8c7d-c51589668499",
   "metadata": {},
   "source": [
    "## Analysis"
   ]
  },
  {
   "cell_type": "markdown",
   "id": "c28cc799-730b-4008-9e34-f6afc5062944",
   "metadata": {},
   "source": [
    "In the last notebook, we computed the similarity of the neural representation across each pair of word presentations for each subject in each session. We now need to analyze it! One tricky thing about doing this analysis as we'll learn later is that the EEG signal is really influenced by time, i.e. things that happen nearby also have similar patterns of activity. In the Haxby study, they handled this by only comparing representations across runs. Similarly, in this first analysis, we will only look at across list comparisons."
   ]
  },
  {
   "cell_type": "code",
   "execution_count": 3,
   "id": "50696b76-9c14-445d-b61a-e3f60fb6a126",
   "metadata": {},
   "outputs": [],
   "source": [
    "across_list_WORD_rsa_df = raw_WORD_rsa_df.query('(list_WORD2 > list_WORD)') \n",
    "within_list_WORD_rsa_df = raw_WORD_rsa_df.query('((list_WORD2 == list_WORD) and (serialpos_WORD2 > serialpos_WORD))')"
   ]
  },
  {
   "cell_type": "markdown",
   "id": "12c42d3e-50b6-49ee-bec2-e198af107459",
   "metadata": {},
   "source": [
    "Check out what information is contained in this dataframe. `corr_z` is the [Fisher](https://academic.oup.com/biomet/article/10/4/507/203628) [$z$-transformed](https://en.wikipedia.org/wiki/Fisher_transformation) correlation between two encoding periods. We transform it because if we average together a bunch of correlations our result will be biased relative to the true average correlation. The transformation to some extent corrects for this bias. \n",
    "Beyond that, the information contained in the `_WORD` columns refers to the word in the pair that occurred earlier in the session (on a prior list), `_WORD2` is the later word."
   ]
  },
  {
   "cell_type": "code",
   "execution_count": 6,
   "id": "a91f64e9-ff5f-4a2c-9cc5-6d73470edf79",
   "metadata": {},
   "outputs": [
    {
     "data": {
      "text/html": [
       "<div>\n",
       "<style scoped>\n",
       "    .dataframe tbody tr th:only-of-type {\n",
       "        vertical-align: middle;\n",
       "    }\n",
       "\n",
       "    .dataframe tbody tr th {\n",
       "        vertical-align: top;\n",
       "    }\n",
       "\n",
       "    .dataframe thead th {\n",
       "        text-align: right;\n",
       "    }\n",
       "</style>\n",
       "<table border=\"1\" class=\"dataframe\">\n",
       "  <thead>\n",
       "    <tr style=\"text-align: right;\">\n",
       "      <th></th>\n",
       "      <th>category_WORD</th>\n",
       "      <th>category_num_WORD</th>\n",
       "      <th>eegfile_WORD</th>\n",
       "      <th>eegoffset_WORD</th>\n",
       "      <th>exp_version_WORD</th>\n",
       "      <th>experiment_WORD</th>\n",
       "      <th>intrusion_WORD</th>\n",
       "      <th>is_stim_WORD</th>\n",
       "      <th>item_name_WORD</th>\n",
       "      <th>item_num_WORD</th>\n",
       "      <th>...</th>\n",
       "      <th>phase_WORD</th>\n",
       "      <th>recog_resp_WORD</th>\n",
       "      <th>recog_rt_WORD</th>\n",
       "      <th>recognized_WORD</th>\n",
       "      <th>rejected_WORD</th>\n",
       "      <th>phase_WORD2</th>\n",
       "      <th>recog_resp_WORD2</th>\n",
       "      <th>recog_rt_WORD2</th>\n",
       "      <th>recognized_WORD2</th>\n",
       "      <th>rejected_WORD2</th>\n",
       "    </tr>\n",
       "  </thead>\n",
       "  <tbody>\n",
       "    <tr>\n",
       "      <th>11</th>\n",
       "      <td>officesupplies</td>\n",
       "      <td>17</td>\n",
       "      <td>/protocols/r1/subjects/R1045E/experiments/catF...</td>\n",
       "      <td>491162</td>\n",
       "      <td>1.05</td>\n",
       "      <td>catFR1</td>\n",
       "      <td>-999</td>\n",
       "      <td>0</td>\n",
       "      <td>PAPER</td>\n",
       "      <td>207</td>\n",
       "      <td>...</td>\n",
       "      <td>NaN</td>\n",
       "      <td>NaN</td>\n",
       "      <td>NaN</td>\n",
       "      <td>NaN</td>\n",
       "      <td>NaN</td>\n",
       "      <td>NaN</td>\n",
       "      <td>NaN</td>\n",
       "      <td>NaN</td>\n",
       "      <td>NaN</td>\n",
       "      <td>NaN</td>\n",
       "    </tr>\n",
       "    <tr>\n",
       "      <th>12</th>\n",
       "      <td>officesupplies</td>\n",
       "      <td>17</td>\n",
       "      <td>/protocols/r1/subjects/R1045E/experiments/catF...</td>\n",
       "      <td>491162</td>\n",
       "      <td>1.05</td>\n",
       "      <td>catFR1</td>\n",
       "      <td>-999</td>\n",
       "      <td>0</td>\n",
       "      <td>PAPER</td>\n",
       "      <td>207</td>\n",
       "      <td>...</td>\n",
       "      <td>NaN</td>\n",
       "      <td>NaN</td>\n",
       "      <td>NaN</td>\n",
       "      <td>NaN</td>\n",
       "      <td>NaN</td>\n",
       "      <td>NaN</td>\n",
       "      <td>NaN</td>\n",
       "      <td>NaN</td>\n",
       "      <td>NaN</td>\n",
       "      <td>NaN</td>\n",
       "    </tr>\n",
       "    <tr>\n",
       "      <th>13</th>\n",
       "      <td>officesupplies</td>\n",
       "      <td>17</td>\n",
       "      <td>/protocols/r1/subjects/R1045E/experiments/catF...</td>\n",
       "      <td>491162</td>\n",
       "      <td>1.05</td>\n",
       "      <td>catFR1</td>\n",
       "      <td>-999</td>\n",
       "      <td>0</td>\n",
       "      <td>PAPER</td>\n",
       "      <td>207</td>\n",
       "      <td>...</td>\n",
       "      <td>NaN</td>\n",
       "      <td>NaN</td>\n",
       "      <td>NaN</td>\n",
       "      <td>NaN</td>\n",
       "      <td>NaN</td>\n",
       "      <td>NaN</td>\n",
       "      <td>NaN</td>\n",
       "      <td>NaN</td>\n",
       "      <td>NaN</td>\n",
       "      <td>NaN</td>\n",
       "    </tr>\n",
       "    <tr>\n",
       "      <th>14</th>\n",
       "      <td>officesupplies</td>\n",
       "      <td>17</td>\n",
       "      <td>/protocols/r1/subjects/R1045E/experiments/catF...</td>\n",
       "      <td>491162</td>\n",
       "      <td>1.05</td>\n",
       "      <td>catFR1</td>\n",
       "      <td>-999</td>\n",
       "      <td>0</td>\n",
       "      <td>PAPER</td>\n",
       "      <td>207</td>\n",
       "      <td>...</td>\n",
       "      <td>NaN</td>\n",
       "      <td>NaN</td>\n",
       "      <td>NaN</td>\n",
       "      <td>NaN</td>\n",
       "      <td>NaN</td>\n",
       "      <td>NaN</td>\n",
       "      <td>NaN</td>\n",
       "      <td>NaN</td>\n",
       "      <td>NaN</td>\n",
       "      <td>NaN</td>\n",
       "    </tr>\n",
       "    <tr>\n",
       "      <th>15</th>\n",
       "      <td>officesupplies</td>\n",
       "      <td>17</td>\n",
       "      <td>/protocols/r1/subjects/R1045E/experiments/catF...</td>\n",
       "      <td>491162</td>\n",
       "      <td>1.05</td>\n",
       "      <td>catFR1</td>\n",
       "      <td>-999</td>\n",
       "      <td>0</td>\n",
       "      <td>PAPER</td>\n",
       "      <td>207</td>\n",
       "      <td>...</td>\n",
       "      <td>NaN</td>\n",
       "      <td>NaN</td>\n",
       "      <td>NaN</td>\n",
       "      <td>NaN</td>\n",
       "      <td>NaN</td>\n",
       "      <td>NaN</td>\n",
       "      <td>NaN</td>\n",
       "      <td>NaN</td>\n",
       "      <td>NaN</td>\n",
       "      <td>NaN</td>\n",
       "    </tr>\n",
       "    <tr>\n",
       "      <th>...</th>\n",
       "      <td>...</td>\n",
       "      <td>...</td>\n",
       "      <td>...</td>\n",
       "      <td>...</td>\n",
       "      <td>...</td>\n",
       "      <td>...</td>\n",
       "      <td>...</td>\n",
       "      <td>...</td>\n",
       "      <td>...</td>\n",
       "      <td>...</td>\n",
       "      <td>...</td>\n",
       "      <td>...</td>\n",
       "      <td>...</td>\n",
       "      <td>...</td>\n",
       "      <td>...</td>\n",
       "      <td>...</td>\n",
       "      <td>...</td>\n",
       "      <td>...</td>\n",
       "      <td>...</td>\n",
       "      <td>...</td>\n",
       "      <td>...</td>\n",
       "    </tr>\n",
       "    <tr>\n",
       "      <th>3273835</th>\n",
       "      <td>bodyparts</td>\n",
       "      <td>3</td>\n",
       "      <td>/protocols/r1/subjects/R1541T/experiments/catF...</td>\n",
       "      <td>1153986</td>\n",
       "      <td>NaN</td>\n",
       "      <td>catFR1</td>\n",
       "      <td>-999</td>\n",
       "      <td>0</td>\n",
       "      <td>ARM</td>\n",
       "      <td>40</td>\n",
       "      <td>...</td>\n",
       "      <td>NON-STIM</td>\n",
       "      <td>-999.0</td>\n",
       "      <td>-999.0</td>\n",
       "      <td>-999.0</td>\n",
       "      <td>-999.0</td>\n",
       "      <td>NON-STIM</td>\n",
       "      <td>-999.0</td>\n",
       "      <td>-999.0</td>\n",
       "      <td>-999.0</td>\n",
       "      <td>-999.0</td>\n",
       "    </tr>\n",
       "    <tr>\n",
       "      <th>3273836</th>\n",
       "      <td>bodyparts</td>\n",
       "      <td>3</td>\n",
       "      <td>/protocols/r1/subjects/R1541T/experiments/catF...</td>\n",
       "      <td>1153986</td>\n",
       "      <td>NaN</td>\n",
       "      <td>catFR1</td>\n",
       "      <td>-999</td>\n",
       "      <td>0</td>\n",
       "      <td>ARM</td>\n",
       "      <td>40</td>\n",
       "      <td>...</td>\n",
       "      <td>NON-STIM</td>\n",
       "      <td>-999.0</td>\n",
       "      <td>-999.0</td>\n",
       "      <td>-999.0</td>\n",
       "      <td>-999.0</td>\n",
       "      <td>NON-STIM</td>\n",
       "      <td>-999.0</td>\n",
       "      <td>-999.0</td>\n",
       "      <td>-999.0</td>\n",
       "      <td>-999.0</td>\n",
       "    </tr>\n",
       "    <tr>\n",
       "      <th>3273837</th>\n",
       "      <td>bodyparts</td>\n",
       "      <td>3</td>\n",
       "      <td>/protocols/r1/subjects/R1541T/experiments/catF...</td>\n",
       "      <td>1153986</td>\n",
       "      <td>NaN</td>\n",
       "      <td>catFR1</td>\n",
       "      <td>-999</td>\n",
       "      <td>0</td>\n",
       "      <td>ARM</td>\n",
       "      <td>40</td>\n",
       "      <td>...</td>\n",
       "      <td>NON-STIM</td>\n",
       "      <td>-999.0</td>\n",
       "      <td>-999.0</td>\n",
       "      <td>-999.0</td>\n",
       "      <td>-999.0</td>\n",
       "      <td>NON-STIM</td>\n",
       "      <td>-999.0</td>\n",
       "      <td>-999.0</td>\n",
       "      <td>-999.0</td>\n",
       "      <td>-999.0</td>\n",
       "    </tr>\n",
       "    <tr>\n",
       "      <th>3273838</th>\n",
       "      <td>bodyparts</td>\n",
       "      <td>3</td>\n",
       "      <td>/protocols/r1/subjects/R1541T/experiments/catF...</td>\n",
       "      <td>1153986</td>\n",
       "      <td>NaN</td>\n",
       "      <td>catFR1</td>\n",
       "      <td>-999</td>\n",
       "      <td>0</td>\n",
       "      <td>ARM</td>\n",
       "      <td>40</td>\n",
       "      <td>...</td>\n",
       "      <td>NON-STIM</td>\n",
       "      <td>-999.0</td>\n",
       "      <td>-999.0</td>\n",
       "      <td>-999.0</td>\n",
       "      <td>-999.0</td>\n",
       "      <td>NON-STIM</td>\n",
       "      <td>-999.0</td>\n",
       "      <td>-999.0</td>\n",
       "      <td>-999.0</td>\n",
       "      <td>-999.0</td>\n",
       "    </tr>\n",
       "    <tr>\n",
       "      <th>3273839</th>\n",
       "      <td>bodyparts</td>\n",
       "      <td>3</td>\n",
       "      <td>/protocols/r1/subjects/R1541T/experiments/catF...</td>\n",
       "      <td>1153986</td>\n",
       "      <td>NaN</td>\n",
       "      <td>catFR1</td>\n",
       "      <td>-999</td>\n",
       "      <td>0</td>\n",
       "      <td>ARM</td>\n",
       "      <td>40</td>\n",
       "      <td>...</td>\n",
       "      <td>NON-STIM</td>\n",
       "      <td>-999.0</td>\n",
       "      <td>-999.0</td>\n",
       "      <td>-999.0</td>\n",
       "      <td>-999.0</td>\n",
       "      <td>NON-STIM</td>\n",
       "      <td>-999.0</td>\n",
       "      <td>-999.0</td>\n",
       "      <td>-999.0</td>\n",
       "      <td>-999.0</td>\n",
       "    </tr>\n",
       "  </tbody>\n",
       "</table>\n",
       "<p>3101184 rows × 57 columns</p>\n",
       "</div>"
      ],
      "text/plain": [
       "          category_WORD  category_num_WORD  \\\n",
       "11       officesupplies                 17   \n",
       "12       officesupplies                 17   \n",
       "13       officesupplies                 17   \n",
       "14       officesupplies                 17   \n",
       "15       officesupplies                 17   \n",
       "...                 ...                ...   \n",
       "3273835       bodyparts                  3   \n",
       "3273836       bodyparts                  3   \n",
       "3273837       bodyparts                  3   \n",
       "3273838       bodyparts                  3   \n",
       "3273839       bodyparts                  3   \n",
       "\n",
       "                                              eegfile_WORD  eegoffset_WORD  \\\n",
       "11       /protocols/r1/subjects/R1045E/experiments/catF...          491162   \n",
       "12       /protocols/r1/subjects/R1045E/experiments/catF...          491162   \n",
       "13       /protocols/r1/subjects/R1045E/experiments/catF...          491162   \n",
       "14       /protocols/r1/subjects/R1045E/experiments/catF...          491162   \n",
       "15       /protocols/r1/subjects/R1045E/experiments/catF...          491162   \n",
       "...                                                    ...             ...   \n",
       "3273835  /protocols/r1/subjects/R1541T/experiments/catF...         1153986   \n",
       "3273836  /protocols/r1/subjects/R1541T/experiments/catF...         1153986   \n",
       "3273837  /protocols/r1/subjects/R1541T/experiments/catF...         1153986   \n",
       "3273838  /protocols/r1/subjects/R1541T/experiments/catF...         1153986   \n",
       "3273839  /protocols/r1/subjects/R1541T/experiments/catF...         1153986   \n",
       "\n",
       "        exp_version_WORD experiment_WORD  intrusion_WORD  is_stim_WORD  \\\n",
       "11                  1.05          catFR1            -999             0   \n",
       "12                  1.05          catFR1            -999             0   \n",
       "13                  1.05          catFR1            -999             0   \n",
       "14                  1.05          catFR1            -999             0   \n",
       "15                  1.05          catFR1            -999             0   \n",
       "...                  ...             ...             ...           ...   \n",
       "3273835              NaN          catFR1            -999             0   \n",
       "3273836              NaN          catFR1            -999             0   \n",
       "3273837              NaN          catFR1            -999             0   \n",
       "3273838              NaN          catFR1            -999             0   \n",
       "3273839              NaN          catFR1            -999             0   \n",
       "\n",
       "        item_name_WORD  item_num_WORD  ...  phase_WORD  recog_resp_WORD  \\\n",
       "11               PAPER            207  ...         NaN              NaN   \n",
       "12               PAPER            207  ...         NaN              NaN   \n",
       "13               PAPER            207  ...         NaN              NaN   \n",
       "14               PAPER            207  ...         NaN              NaN   \n",
       "15               PAPER            207  ...         NaN              NaN   \n",
       "...                ...            ...  ...         ...              ...   \n",
       "3273835            ARM             40  ...    NON-STIM           -999.0   \n",
       "3273836            ARM             40  ...    NON-STIM           -999.0   \n",
       "3273837            ARM             40  ...    NON-STIM           -999.0   \n",
       "3273838            ARM             40  ...    NON-STIM           -999.0   \n",
       "3273839            ARM             40  ...    NON-STIM           -999.0   \n",
       "\n",
       "         recog_rt_WORD  recognized_WORD rejected_WORD  phase_WORD2  \\\n",
       "11                 NaN              NaN           NaN          NaN   \n",
       "12                 NaN              NaN           NaN          NaN   \n",
       "13                 NaN              NaN           NaN          NaN   \n",
       "14                 NaN              NaN           NaN          NaN   \n",
       "15                 NaN              NaN           NaN          NaN   \n",
       "...                ...              ...           ...          ...   \n",
       "3273835         -999.0           -999.0        -999.0     NON-STIM   \n",
       "3273836         -999.0           -999.0        -999.0     NON-STIM   \n",
       "3273837         -999.0           -999.0        -999.0     NON-STIM   \n",
       "3273838         -999.0           -999.0        -999.0     NON-STIM   \n",
       "3273839         -999.0           -999.0        -999.0     NON-STIM   \n",
       "\n",
       "         recog_resp_WORD2  recog_rt_WORD2  recognized_WORD2  rejected_WORD2  \n",
       "11                    NaN             NaN               NaN             NaN  \n",
       "12                    NaN             NaN               NaN             NaN  \n",
       "13                    NaN             NaN               NaN             NaN  \n",
       "14                    NaN             NaN               NaN             NaN  \n",
       "15                    NaN             NaN               NaN             NaN  \n",
       "...                   ...             ...               ...             ...  \n",
       "3273835            -999.0          -999.0            -999.0          -999.0  \n",
       "3273836            -999.0          -999.0            -999.0          -999.0  \n",
       "3273837            -999.0          -999.0            -999.0          -999.0  \n",
       "3273838            -999.0          -999.0            -999.0          -999.0  \n",
       "3273839            -999.0          -999.0            -999.0          -999.0  \n",
       "\n",
       "[3101184 rows x 57 columns]"
      ]
     },
     "execution_count": 6,
     "metadata": {},
     "output_type": "execute_result"
    }
   ],
   "source": [
    "across_list_WORD_rsa_df"
   ]
  },
  {
   "cell_type": "markdown",
   "id": "bec7edac-c25b-4367-8a7e-98e16a5494cc",
   "metadata": {},
   "source": [
    "In order to start looking at this we need to start averaging. We want to be careful about how we do this because the data isn't independent. There's a lot of structure since each word occurred on a list on a session for a subject. We'll first look only at comparisons between the same category on a specific pair of lists in a session and get the average representation there. "
   ]
  },
  {
   "cell_type": "code",
   "execution_count": 7,
   "id": "71bf51b4-be59-4781-97f4-9f1e67b796d9",
   "metadata": {},
   "outputs": [],
   "source": [
    "across_list_WORD_rsa_list_df = across_list_WORD_rsa_df.groupby(\n",
    "    ['subject_WORD', 'session_WORD', 'list_WORD', 'list_WORD2', 'category_WORD', 'category_WORD2'], as_index=False\n",
    ").agg({'corr_z': 'mean'})"
   ]
  },
  {
   "cell_type": "code",
   "execution_count": 8,
   "id": "5fb57260-789d-4761-9802-1f1a2222edd0",
   "metadata": {},
   "outputs": [
    {
     "data": {
      "text/html": [
       "<div>\n",
       "<style scoped>\n",
       "    .dataframe tbody tr th:only-of-type {\n",
       "        vertical-align: middle;\n",
       "    }\n",
       "\n",
       "    .dataframe tbody tr th {\n",
       "        vertical-align: top;\n",
       "    }\n",
       "\n",
       "    .dataframe thead th {\n",
       "        text-align: right;\n",
       "    }\n",
       "</style>\n",
       "<table border=\"1\" class=\"dataframe\">\n",
       "  <thead>\n",
       "    <tr style=\"text-align: right;\">\n",
       "      <th></th>\n",
       "      <th>subject_WORD</th>\n",
       "      <th>session_WORD</th>\n",
       "      <th>list_WORD</th>\n",
       "      <th>list_WORD2</th>\n",
       "      <th>category_WORD</th>\n",
       "      <th>category_WORD2</th>\n",
       "      <th>corr_z</th>\n",
       "    </tr>\n",
       "  </thead>\n",
       "  <tbody>\n",
       "    <tr>\n",
       "      <th>0</th>\n",
       "      <td>R1045E</td>\n",
       "      <td>0</td>\n",
       "      <td>1</td>\n",
       "      <td>2</td>\n",
       "      <td>bodyparts</td>\n",
       "      <td>desserts</td>\n",
       "      <td>0.067712</td>\n",
       "    </tr>\n",
       "    <tr>\n",
       "      <th>1</th>\n",
       "      <td>R1045E</td>\n",
       "      <td>0</td>\n",
       "      <td>1</td>\n",
       "      <td>2</td>\n",
       "      <td>bodyparts</td>\n",
       "      <td>landscapes</td>\n",
       "      <td>0.065518</td>\n",
       "    </tr>\n",
       "    <tr>\n",
       "      <th>2</th>\n",
       "      <td>R1045E</td>\n",
       "      <td>0</td>\n",
       "      <td>1</td>\n",
       "      <td>2</td>\n",
       "      <td>bodyparts</td>\n",
       "      <td>weather</td>\n",
       "      <td>0.068545</td>\n",
       "    </tr>\n",
       "    <tr>\n",
       "      <th>3</th>\n",
       "      <td>R1045E</td>\n",
       "      <td>0</td>\n",
       "      <td>1</td>\n",
       "      <td>2</td>\n",
       "      <td>kitchentools</td>\n",
       "      <td>desserts</td>\n",
       "      <td>0.013110</td>\n",
       "    </tr>\n",
       "    <tr>\n",
       "      <th>4</th>\n",
       "      <td>R1045E</td>\n",
       "      <td>0</td>\n",
       "      <td>1</td>\n",
       "      <td>2</td>\n",
       "      <td>kitchentools</td>\n",
       "      <td>landscapes</td>\n",
       "      <td>0.030201</td>\n",
       "    </tr>\n",
       "    <tr>\n",
       "      <th>...</th>\n",
       "      <td>...</td>\n",
       "      <td>...</td>\n",
       "      <td>...</td>\n",
       "      <td>...</td>\n",
       "      <td>...</td>\n",
       "      <td>...</td>\n",
       "      <td>...</td>\n",
       "    </tr>\n",
       "    <tr>\n",
       "      <th>193819</th>\n",
       "      <td>R1541T</td>\n",
       "      <td>6</td>\n",
       "      <td>11</td>\n",
       "      <td>12</td>\n",
       "      <td>bodyparts</td>\n",
       "      <td>electronics</td>\n",
       "      <td>0.195061</td>\n",
       "    </tr>\n",
       "    <tr>\n",
       "      <th>193820</th>\n",
       "      <td>R1541T</td>\n",
       "      <td>6</td>\n",
       "      <td>11</td>\n",
       "      <td>12</td>\n",
       "      <td>bodyparts</td>\n",
       "      <td>weather</td>\n",
       "      <td>0.142105</td>\n",
       "    </tr>\n",
       "    <tr>\n",
       "      <th>193821</th>\n",
       "      <td>R1541T</td>\n",
       "      <td>6</td>\n",
       "      <td>11</td>\n",
       "      <td>12</td>\n",
       "      <td>tools</td>\n",
       "      <td>birds</td>\n",
       "      <td>0.148970</td>\n",
       "    </tr>\n",
       "    <tr>\n",
       "      <th>193822</th>\n",
       "      <td>R1541T</td>\n",
       "      <td>6</td>\n",
       "      <td>11</td>\n",
       "      <td>12</td>\n",
       "      <td>tools</td>\n",
       "      <td>electronics</td>\n",
       "      <td>0.182028</td>\n",
       "    </tr>\n",
       "    <tr>\n",
       "      <th>193823</th>\n",
       "      <td>R1541T</td>\n",
       "      <td>6</td>\n",
       "      <td>11</td>\n",
       "      <td>12</td>\n",
       "      <td>tools</td>\n",
       "      <td>weather</td>\n",
       "      <td>0.154833</td>\n",
       "    </tr>\n",
       "  </tbody>\n",
       "</table>\n",
       "<p>193824 rows × 7 columns</p>\n",
       "</div>"
      ],
      "text/plain": [
       "       subject_WORD  session_WORD  list_WORD  list_WORD2 category_WORD  \\\n",
       "0            R1045E             0          1           2     bodyparts   \n",
       "1            R1045E             0          1           2     bodyparts   \n",
       "2            R1045E             0          1           2     bodyparts   \n",
       "3            R1045E             0          1           2  kitchentools   \n",
       "4            R1045E             0          1           2  kitchentools   \n",
       "...             ...           ...        ...         ...           ...   \n",
       "193819       R1541T             6         11          12     bodyparts   \n",
       "193820       R1541T             6         11          12     bodyparts   \n",
       "193821       R1541T             6         11          12         tools   \n",
       "193822       R1541T             6         11          12         tools   \n",
       "193823       R1541T             6         11          12         tools   \n",
       "\n",
       "       category_WORD2    corr_z  \n",
       "0            desserts  0.067712  \n",
       "1          landscapes  0.065518  \n",
       "2             weather  0.068545  \n",
       "3            desserts  0.013110  \n",
       "4          landscapes  0.030201  \n",
       "...               ...       ...  \n",
       "193819    electronics  0.195061  \n",
       "193820        weather  0.142105  \n",
       "193821          birds  0.148970  \n",
       "193822    electronics  0.182028  \n",
       "193823        weather  0.154833  \n",
       "\n",
       "[193824 rows x 7 columns]"
      ]
     },
     "execution_count": 8,
     "metadata": {},
     "output_type": "execute_result"
    }
   ],
   "source": [
    "across_list_WORD_rsa_list_df"
   ]
  },
  {
   "cell_type": "markdown",
   "id": "f8b63b18-006a-4b65-aa16-ad8aeba09e38",
   "metadata": {},
   "source": [
    "If you haven't seen this code pattern yet, it's super useful and comes up all the time in data science. It's called a [split-apply-combine pattern](https://www.jstatsoft.org/article/view/v040i01) because we split up the data into chunks, run some code on each of them (here taking the mean correlation), and then recombine them again. You can see more about how this works in `pandas` [here](https://pandas.pydata.org/docs/user_guide/groupby.html). We then continue taking the average within session, and subject until we finally get to the average similarity between items from a pair of categories in our dataset."
   ]
  },
  {
   "cell_type": "code",
   "execution_count": 9,
   "id": "d937133c-127a-4bd1-adf5-2217349c4251",
   "metadata": {},
   "outputs": [],
   "source": [
    "across_list_WORD_rsa_session_df = across_list_WORD_rsa_list_df.groupby(\n",
    "    ['subject_WORD', 'session_WORD', 'category_WORD', 'category_WORD2'], as_index=False\n",
    ").agg({'corr_z': 'mean'})\n",
    "across_list_WORD_rsa_subject_df = across_list_WORD_rsa_session_df.groupby(\n",
    "    ['subject_WORD', 'category_WORD', 'category_WORD2'], as_index=False\n",
    ").agg({'corr_z': 'mean'})\n",
    "across_list_WORD_rsa_category_df = across_list_WORD_rsa_session_df.groupby(\n",
    "    ['category_WORD', 'category_WORD2'], as_index=False\n",
    ").agg({'corr_z': 'mean'})"
   ]
  },
  {
   "cell_type": "markdown",
   "id": "e0e27cd5-a722-44df-90cf-7f53210ab007",
   "metadata": {},
   "source": [
    "As we mentioned before, some subjects saw 26 categories while some only saw 25. To make this analysis more straightforward, we'll remove the 26th category, \"fabrics\" from the analysis."
   ]
  },
  {
   "cell_type": "code",
   "execution_count": 10,
   "id": "cbc3e0c7-d988-4bb2-9209-cf93e0e0aa8b",
   "metadata": {},
   "outputs": [],
   "source": [
    "across_list_WORD_rsa_category_df = across_list_WORD_rsa_category_df.query('(category_WORD != \"fabric\") and ' + \n",
    "                                                                            '(category_WORD2 != \"fabric\")')"
   ]
  },
  {
   "cell_type": "markdown",
   "id": "56319646-c1fb-4d33-ba44-0e341dd175f4",
   "metadata": {},
   "source": [
    "Finally we'll reshape this data into a matrix so we can plot it like the Haxby/Kriegeskorte analyses above. Note that this matrix isn't symmetric -- the y-axis corresponds to the earlier word and the x-axis to the later word."
   ]
  },
  {
   "cell_type": "code",
   "execution_count": 11,
   "id": "b7c1d4b8-2bc5-4bf4-a23b-ec5df8764163",
   "metadata": {},
   "outputs": [],
   "source": [
    "across_list_WORD_rsa_category_mat = across_list_WORD_rsa_category_df.pivot_table(\n",
    "    index=['category_WORD'], columns=['category_WORD2'], \n",
    "    values='corr_z')"
   ]
  },
  {
   "cell_type": "code",
   "execution_count": 12,
   "id": "6a06e8e4-829d-42d9-990e-491b1afd5395",
   "metadata": {},
   "outputs": [
    {
     "data": {
      "text/plain": [
       "[Text(0.5, 15.0, 'Later Item'), Text(33.0, 0.5, 'Earlier Item')]"
      ]
     },
     "execution_count": 12,
     "metadata": {},
     "output_type": "execute_result"
    },
    {
     "data": {
      "image/png": "[encoded data removed]",
      "text/plain": [
       "<Figure size 432x288 with 2 Axes>"
      ]
     },
     "metadata": {
      "needs_background": "light"
     },
     "output_type": "display_data"
    }
   ],
   "source": [
    "g = sns.heatmap(across_list_WORD_rsa_category_mat)\n",
    "g.set(xlabel='Later Item', ylabel='Earlier Item')"
   ]
  },
  {
   "cell_type": "markdown",
   "id": "bc543148-f54f-4ae0-97e7-a614b7a677a8",
   "metadata": {},
   "source": [
    "This doesn't look like much -- the diagonal structure isn't super apparent. One reason is that there is a lot of uncontrolled variance here. Some subjects' neural activity is more category driven than others so the average similarities vary a lot by subject. It also varies by session and list. Use the split apply combine approach to see what the variability in average similarity looks like across subjects. Use seaborn [displot](https://seaborn.pydata.org/generated/seaborn.displot.html) to investigate"
   ]
  },
  {
   "cell_type": "code",
   "execution_count": null,
   "id": "86a76dcf-5144-4565-9f80-5a0698aeecbf",
   "metadata": {},
   "outputs": [],
   "source": []
  },
  {
   "cell_type": "markdown",
   "id": "f48bf0df-93ca-4edc-af04-a4c346fce1ed",
   "metadata": {},
   "source": [
    "What we are really interested in is, within a subject and a pair of lists, do same category words look more similar than across category? Therefore we'll subtract the average similarity within a pair of lists from the `corr_z` column. This gives us only the within-list-pair variance. This is often a [good strategy](https://www.tqmp.org/RegularArticles/vol01-1/p042/p042.pdf) for visualizing effects in studies like this where there is hierarchical structure in the design (subjects/sessions/lists). We'll store this in the `corr_z_list_adj` column"
   ]
  },
  {
   "cell_type": "code",
   "execution_count": 17,
   "id": "f90dc878-43fb-4de2-8bf1-0872abd74297",
   "metadata": {
    "tags": []
   },
   "outputs": [
    {
     "name": "stderr",
     "output_type": "stream",
     "text": [
      "/usr/global/Anaconda/2019-10/envs/cml37/lib/python3.7/site-packages/ipykernel_launcher.py:2: SettingWithCopyWarning: \n",
      "A value is trying to be set on a copy of a slice from a DataFrame.\n",
      "Try using .loc[row_indexer,col_indexer] = value instead\n",
      "\n",
      "See the caveats in the documentation: https://pandas.pydata.org/pandas-docs/stable/user_guide/indexing.html#returning-a-view-versus-a-copy\n",
      "  \n",
      "/usr/global/Anaconda/2019-10/envs/cml37/lib/python3.7/site-packages/ipykernel_launcher.py:4: SettingWithCopyWarning: \n",
      "A value is trying to be set on a copy of a slice from a DataFrame.\n",
      "Try using .loc[row_indexer,col_indexer] = value instead\n",
      "\n",
      "See the caveats in the documentation: https://pandas.pydata.org/pandas-docs/stable/user_guide/indexing.html#returning-a-view-versus-a-copy\n",
      "  after removing the cwd from sys.path.\n",
      "/usr/global/Anaconda/2019-10/envs/cml37/lib/python3.7/site-packages/ipykernel_launcher.py:6: SettingWithCopyWarning: \n",
      "A value is trying to be set on a copy of a slice from a DataFrame.\n",
      "Try using .loc[row_indexer,col_indexer] = value instead\n",
      "\n",
      "See the caveats in the documentation: https://pandas.pydata.org/pandas-docs/stable/user_guide/indexing.html#returning-a-view-versus-a-copy\n",
      "  \n",
      "/usr/global/Anaconda/2019-10/envs/cml37/lib/python3.7/site-packages/ipykernel_launcher.py:8: SettingWithCopyWarning: \n",
      "A value is trying to be set on a copy of a slice from a DataFrame.\n",
      "Try using .loc[row_indexer,col_indexer] = value instead\n",
      "\n",
      "See the caveats in the documentation: https://pandas.pydata.org/pandas-docs/stable/user_guide/indexing.html#returning-a-view-versus-a-copy\n",
      "  \n"
     ]
    }
   ],
   "source": [
    "across_list_WORD_rsa_df['corr_z_list_mean'] = across_list_WORD_rsa_df.groupby(\n",
    "    ['subject_WORD', 'session_WORD', 'list_WORD', 'list_WORD2'])['corr_z'].transform('mean')\n",
    "across_list_WORD_rsa_df['corr_z_list_adj'] = (across_list_WORD_rsa_df['corr_z'] - \n",
    "                                                     across_list_WORD_rsa_df['corr_z_list_mean'])\n",
    "within_list_WORD_rsa_df['corr_z_list_mean'] = within_list_WORD_rsa_df.groupby(\n",
    "    ['subject_WORD', 'session_WORD', 'list_WORD'])['corr_z'].transform('mean')\n",
    "within_list_WORD_rsa_df['corr_z_list_adj'] = (within_list_WORD_rsa_df['corr_z'] - \n",
    "                                                     within_list_WORD_rsa_df['corr_z_list_mean'])"
   ]
  },
  {
   "cell_type": "code",
   "execution_count": 21,
   "id": "171e2ebe-2612-4166-8782-b36f6495d9bf",
   "metadata": {},
   "outputs": [],
   "source": [
    "across_list_WORD_rsa_list_df = across_list_WORD_rsa_df.groupby(\n",
    "    ['subject_WORD', 'session_WORD', 'list_WORD', 'list_WORD2', 'category_WORD', 'category_WORD2'], as_index=False\n",
    ").agg({'corr_z_list_adj': 'mean'})\n",
    "across_list_WORD_rsa_session_df = across_list_WORD_rsa_list_df.groupby(\n",
    "    ['subject_WORD', 'session_WORD', 'category_WORD', 'category_WORD2'], as_index=False\n",
    ").agg({'corr_z_list_adj': 'mean'})\n",
    "across_list_WORD_rsa_subject_df = across_list_WORD_rsa_session_df.groupby(\n",
    "    ['subject_WORD', 'category_WORD', 'category_WORD2'], as_index=False\n",
    ").agg({'corr_z_list_adj': 'mean'})\n",
    "across_list_WORD_rsa_category_df = across_list_WORD_rsa_session_df.groupby(\n",
    "    ['category_WORD', 'category_WORD2'], as_index=False\n",
    ").agg({'corr_z_list_adj': 'mean'})"
   ]
  },
  {
   "cell_type": "code",
   "execution_count": 22,
   "id": "651f8317-cb40-4b20-8660-2d61fa2acd1c",
   "metadata": {},
   "outputs": [],
   "source": [
    "across_list_WORD_rsa_category_df = across_list_WORD_rsa_category_df.query(\n",
    "    '(category_WORD != \"fabric\") and ' + \n",
    "    '(category_WORD2 != \"fabric\")')\n",
    "across_list_WORD_rsa_category_mat = across_list_WORD_rsa_category_df.pivot_table(\n",
    "    index=['category_WORD'], columns=['category_WORD2'], \n",
    "    values='corr_z_list_adj')"
   ]
  },
  {
   "cell_type": "code",
   "execution_count": 23,
   "id": "6ff60a94-04bc-4b1c-899c-e8562174ad45",
   "metadata": {
    "tags": []
   },
   "outputs": [
    {
     "data": {
      "text/plain": [
       "[Text(0.5, 15.0, 'Later Item'), Text(33.0, 0.5, 'Earlier Item')]"
      ]
     },
     "execution_count": 23,
     "metadata": {},
     "output_type": "execute_result"
    },
    {
     "data": {
      "image/png": "[encoded data removed]",
      "text/plain": [
       "<Figure size 432x288 with 2 Axes>"
      ]
     },
     "metadata": {
      "needs_background": "light"
     },
     "output_type": "display_data"
    }
   ],
   "source": [
    "g = sns.heatmap(across_list_WORD_rsa_category_mat)\n",
    "g.set(xlabel='Later Item', ylabel='Earlier Item')"
   ]
  },
  {
   "cell_type": "markdown",
   "id": "0e3ab43b-5d3b-4ada-bf51-0ad7a679b67a",
   "metadata": {},
   "source": [
    "This still doesn't look amazing, you can't really see a diagonal unless you really squint. It's challenging to see effects like this at some level because of the range of electrodes you get across patients. However, we can focus our analysis a little more. Let's see if same category comparisons are more similar than across in general."
   ]
  },
  {
   "cell_type": "code",
   "execution_count": 24,
   "id": "9e1b36ca-4438-413b-a627-94b83953cefb",
   "metadata": {},
   "outputs": [
    {
     "name": "stderr",
     "output_type": "stream",
     "text": [
      "/usr/global/Anaconda/2019-10/envs/cml37/lib/python3.7/site-packages/ipykernel_launcher.py:1: SettingWithCopyWarning: \n",
      "A value is trying to be set on a copy of a slice from a DataFrame.\n",
      "Try using .loc[row_indexer,col_indexer] = value instead\n",
      "\n",
      "See the caveats in the documentation: https://pandas.pydata.org/pandas-docs/stable/user_guide/indexing.html#returning-a-view-versus-a-copy\n",
      "  \"\"\"Entry point for launching an IPython kernel.\n"
     ]
    }
   ],
   "source": [
    "across_list_WORD_rsa_df['same_category'] = across_list_WORD_rsa_df['category_WORD'] == across_list_WORD_rsa_df['category_WORD2']\n",
    "across_list_WORD_rsa_list_df = across_list_WORD_rsa_df.groupby(\n",
    "    ['subject_WORD', 'session_WORD', 'list_WORD', 'list_WORD2', 'same_category'], as_index=False\n",
    ").agg({'corr_z_list_adj': 'mean'})\n",
    "across_list_WORD_rsa_session_df = across_list_WORD_rsa_list_df.groupby(\n",
    "    ['subject_WORD', 'session_WORD', 'same_category'], as_index=False\n",
    ").agg({'corr_z_list_adj': 'mean'})\n",
    "across_list_WORD_rsa_subject_df = across_list_WORD_rsa_session_df.groupby(\n",
    "    ['subject_WORD', 'same_category'], as_index=False\n",
    ").agg({'corr_z_list_adj': 'mean'})"
   ]
  },
  {
   "cell_type": "code",
   "execution_count": 26,
   "id": "06c643a0-a52e-413c-8693-88b725e7dd0b",
   "metadata": {},
   "outputs": [
    {
     "data": {
      "text/plain": [
       "<seaborn.axisgrid.FacetGrid at 0x2ba1dcc20490>"
      ]
     },
     "execution_count": 26,
     "metadata": {},
     "output_type": "execute_result"
    },
    {
     "data": {
      "image/png": "[encoded data removed]",
      "text/plain": [
       "<Figure size 360x360 with 1 Axes>"
      ]
     },
     "metadata": {
      "needs_background": "light"
     },
     "output_type": "display_data"
    }
   ],
   "source": [
    "g = sns.catplot(x='same_category', y='corr_z_list_adj', \n",
    "            data=across_list_WORD_rsa_subject_df, kind='point')\n",
    "g.set(xlabel='Same Category', ylabel='List-centered $z$-transformed Correlation')"
   ]
  },
  {
   "cell_type": "markdown",
   "id": "1a6f7bdf-cd4e-45b2-b403-f15dda1bc7c2",
   "metadata": {},
   "source": [
    "Now we can see that there is in fact a difference, although it is somewhat small. In contrast, we would not have been able to see this without subtracting out the list mean."
   ]
  },
  {
   "cell_type": "code",
   "execution_count": 27,
   "id": "5c5ec8a0-0533-4fab-ae9d-cbbcc3e33e2c",
   "metadata": {},
   "outputs": [
    {
     "name": "stderr",
     "output_type": "stream",
     "text": [
      "/usr/global/Anaconda/2019-10/envs/cml37/lib/python3.7/site-packages/ipykernel_launcher.py:1: SettingWithCopyWarning: \n",
      "A value is trying to be set on a copy of a slice from a DataFrame.\n",
      "Try using .loc[row_indexer,col_indexer] = value instead\n",
      "\n",
      "See the caveats in the documentation: https://pandas.pydata.org/pandas-docs/stable/user_guide/indexing.html#returning-a-view-versus-a-copy\n",
      "  \"\"\"Entry point for launching an IPython kernel.\n"
     ]
    }
   ],
   "source": [
    "across_list_WORD_rsa_df['same_category'] = across_list_WORD_rsa_df['category_WORD'] == across_list_WORD_rsa_df['category_WORD2']\n",
    "across_list_WORD_rsa_list_df = across_list_WORD_rsa_df.groupby(\n",
    "    ['subject_WORD', 'session_WORD', 'list_WORD', 'list_WORD2', 'same_category'], as_index=False\n",
    ").agg({'corr_z': 'mean'})\n",
    "across_list_WORD_rsa_session_df = across_list_WORD_rsa_list_df.groupby(\n",
    "    ['subject_WORD', 'session_WORD', 'same_category'], as_index=False\n",
    ").agg({'corr_z': 'mean'})\n",
    "across_list_WORD_rsa_subject_df = across_list_WORD_rsa_session_df.groupby(\n",
    "    ['subject_WORD', 'same_category'], as_index=False\n",
    ").agg({'corr_z': 'mean'})"
   ]
  },
  {
   "cell_type": "code",
   "execution_count": 29,
   "id": "f29acc81-47f5-4474-9c13-44c1b4c47fc2",
   "metadata": {},
   "outputs": [
    {
     "data": {
      "text/plain": [
       "<seaborn.axisgrid.FacetGrid at 0x2ba1dcdf9750>"
      ]
     },
     "execution_count": 29,
     "metadata": {},
     "output_type": "execute_result"
    },
    {
     "data": {
      "image/png": "[encoded data removed]",
      "text/plain": [
       "<Figure size 360x360 with 1 Axes>"
      ]
     },
     "metadata": {
      "needs_background": "light"
     },
     "output_type": "display_data"
    }
   ],
   "source": [
    "g = sns.catplot(x='same_category', y='corr_z', \n",
    "            data=across_list_WORD_rsa_subject_df, kind='point')\n",
    "g.set(xlabel='Same Category', ylabel='$z$-transformed Correlation')"
   ]
  },
  {
   "cell_type": "markdown",
   "id": "6beb190c-2b70-4569-b605-0515ff5941de",
   "metadata": {
    "tags": []
   },
   "source": [
    "# Serial position similarity"
   ]
  },
  {
   "cell_type": "markdown",
   "id": "f5488c45-c519-4a9e-a55d-b8944535aecb",
   "metadata": {},
   "source": [
    "The next set of results we'll investigate are from [Manning et al. (2011)](https://www.pnas.org/doi/10.1073/pnas.1015174108). The first result that Manning showed was that neural activity seemed to drift such that the similarity of patterns of intracranial EEG decreased as a function of distance in the list."
   ]
  },
  {
   "cell_type": "markdown",
   "id": "4e70f01f-265e-42b9-8ede-ce672594defa",
   "metadata": {},
   "source": [
    "<center>\n",
    "    <img src=\"figures/MannEtal11A.png\" width=400>\n",
    "</center>"
   ]
  },
  {
   "cell_type": "markdown",
   "id": "6e8fa068-a588-45b4-bf4f-06e2fa7bd0a6",
   "metadata": {},
   "source": [
    "We'll again do this analysis within list."
   ]
  },
  {
   "cell_type": "code",
   "execution_count": 30,
   "id": "2e426a23-28a4-4eee-8ca8-c3bb6c1c1b65",
   "metadata": {},
   "outputs": [],
   "source": [
    "within_list_WORD_rsa_list_df = within_list_WORD_rsa_df.groupby(\n",
    "    ['subject_WORD', 'session_WORD', 'list_WORD', 'serialpos_WORD', 'serialpos_WORD2'], as_index=False\n",
    ").agg({'corr_z_list_adj': 'mean'})\n",
    "within_list_WORD_rsa_session_df = within_list_WORD_rsa_list_df.groupby(\n",
    "    ['subject_WORD', 'session_WORD', 'serialpos_WORD', 'serialpos_WORD2'], as_index=False\n",
    ").agg({'corr_z_list_adj': 'mean'})\n",
    "within_list_WORD_rsa_subject_df = within_list_WORD_rsa_session_df.groupby(\n",
    "    ['subject_WORD', 'serialpos_WORD', 'serialpos_WORD2'], as_index=False\n",
    ").agg({'corr_z_list_adj': 'mean'})\n",
    "within_list_WORD_rsa_serialpos_df = within_list_WORD_rsa_session_df.groupby(\n",
    "    ['serialpos_WORD', 'serialpos_WORD2'], as_index=False\n",
    ").agg({'corr_z_list_adj': 'mean'})"
   ]
  },
  {
   "cell_type": "code",
   "execution_count": 32,
   "id": "2c6e07b1-8ef2-40c0-b8f2-6566660fdf2a",
   "metadata": {},
   "outputs": [],
   "source": [
    "within_list_WORD_rsa_serialpos_mat = within_list_WORD_rsa_serialpos_df.pivot_table(\n",
    "    index=['serialpos_WORD'], columns=['serialpos_WORD2'], \n",
    "    values='corr_z_list_adj')"
   ]
  },
  {
   "cell_type": "code",
   "execution_count": 33,
   "id": "ee230fb6-d28d-455e-923f-0d2eb63648d7",
   "metadata": {},
   "outputs": [
    {
     "data": {
      "text/plain": [
       "[Text(0.5, 15.0, 'Later Item'), Text(33.0, 0.5, 'Earlier Item')]"
      ]
     },
     "execution_count": 33,
     "metadata": {},
     "output_type": "execute_result"
    },
    {
     "data": {
      "image/png": "[encoded data removed]",
      "text/plain": [
       "<Figure size 432x288 with 2 Axes>"
      ]
     },
     "metadata": {
      "needs_background": "light"
     },
     "output_type": "display_data"
    }
   ],
   "source": [
    "g = sns.heatmap(within_list_WORD_rsa_serialpos_mat)\n",
    "g.set(xlabel='Later Item', ylabel='Earlier Item')"
   ]
  },
  {
   "cell_type": "markdown",
   "id": "f0f5c4d1-d4e0-42c2-9d85-8e270d41f2d7",
   "metadata": {},
   "source": [
    "From this heatmap, we can clearly see how the similarity increases as a function of distance. We can replot this data as a function of distance to look a bit more like the Manning et al. plot"
   ]
  },
  {
   "cell_type": "code",
   "execution_count": 34,
   "id": "ad6ea1a5-b9a7-4f60-9580-d578469a8a8c",
   "metadata": {},
   "outputs": [
    {
     "name": "stderr",
     "output_type": "stream",
     "text": [
      "/usr/global/Anaconda/2019-10/envs/cml37/lib/python3.7/site-packages/ipykernel_launcher.py:1: SettingWithCopyWarning: \n",
      "A value is trying to be set on a copy of a slice from a DataFrame.\n",
      "Try using .loc[row_indexer,col_indexer] = value instead\n",
      "\n",
      "See the caveats in the documentation: https://pandas.pydata.org/pandas-docs/stable/user_guide/indexing.html#returning-a-view-versus-a-copy\n",
      "  \"\"\"Entry point for launching an IPython kernel.\n"
     ]
    }
   ],
   "source": [
    "within_list_WORD_rsa_df['serialpos_dist'] = within_list_WORD_rsa_df['serialpos_WORD2'] - within_list_WORD_rsa_df['serialpos_WORD']\n",
    "within_list_WORD_rsa_list_df = within_list_WORD_rsa_df.groupby(\n",
    "    ['subject_WORD', 'session_WORD', 'list_WORD', 'serialpos_dist'], as_index=False\n",
    ").agg({'corr_z_list_adj': 'mean'})\n",
    "within_list_WORD_rsa_session_df = within_list_WORD_rsa_list_df.groupby(\n",
    "    ['subject_WORD', 'session_WORD', 'serialpos_dist'], as_index=False\n",
    ").agg({'corr_z_list_adj': 'mean'})\n",
    "within_list_WORD_rsa_subject_df = within_list_WORD_rsa_session_df.groupby(\n",
    "    ['subject_WORD', 'serialpos_dist'], as_index=False\n",
    ").agg({'corr_z_list_adj': 'mean'})"
   ]
  },
  {
   "cell_type": "code",
   "execution_count": 36,
   "id": "413bef5c-3dec-4b85-bbeb-a646052b91f9",
   "metadata": {},
   "outputs": [
    {
     "data": {
      "text/plain": [
       "<seaborn.axisgrid.FacetGrid at 0x2ba1dd013c50>"
      ]
     },
     "execution_count": 36,
     "metadata": {},
     "output_type": "execute_result"
    },
    {
     "data": {
      "image/png": "[encoded data removed]",
      "text/plain": [
       "<Figure size 360x360 with 1 Axes>"
      ]
     },
     "metadata": {
      "needs_background": "light"
     },
     "output_type": "display_data"
    }
   ],
   "source": [
    "g = sns.catplot(x='serialpos_dist', y='corr_z_list_adj', \n",
    "            data=within_list_WORD_rsa_subject_df, kind='point')\n",
    "g.set(xlabel='Study distance', ylabel='List-transformed $z$-transformed Correlation')"
   ]
  },
  {
   "cell_type": "markdown",
   "id": "52ed3ad1-30d1-4653-8348-cb4aa19c58bc",
   "metadata": {},
   "source": [
    "We'll also show that being from the same category influences similarity on top of the serial position distance within a list. It's crucial to account for both at the same time because of the category structure of the list. Use the split-apply-combine technique with both `serialpos_dist` and `same_category` to get the mean within each possible combination. Use the [catplot](https://seaborn.pydata.org/generated/seaborn.catplot.html) parameter `hue` to display both variables on the same plot."
   ]
  },
  {
   "cell_type": "code",
   "execution_count": null,
   "id": "0efe320e-e1ba-4d68-b508-970e3f6ed9ca",
   "metadata": {},
   "outputs": [],
   "source": []
  },
  {
   "cell_type": "markdown",
   "id": "03e8c253-0bbf-44f9-bd3d-e2e7cefa3a79",
   "metadata": {
    "tags": []
   },
   "source": [
    "# Encoding-Retrieval RSA analysis"
   ]
  },
  {
   "cell_type": "markdown",
   "id": "889473d5-93c3-4215-a9e0-758a879b8c6c",
   "metadata": {},
   "source": [
    "Now we'll look at the key analysis in Manning et al. (2011). They showed that right before you retrieve an item, the neural activity that displayed the drift above looks more similar to the item youre about to retrieve than any other item. On top of that, it is also more similar to serial positions that were near by at encoding. This suggests that you not only retrieve an item but it's general *context*. This is a key prediction of retrieved context theories of free recall."
   ]
  },
  {
   "cell_type": "markdown",
   "id": "0f02a049-39f9-4ae3-9f9c-70ed0396f428",
   "metadata": {},
   "source": [
    "<center>\n",
    "    <img src=\"figures/MannEtal11_fig1.png\" width=600>\n",
    "</center>"
   ]
  },
  {
   "cell_type": "markdown",
   "id": "c8d9acba-08c4-4e5c-a89b-7796710a64aa",
   "metadata": {},
   "source": [
    "<center>\n",
    "    <img src=\"figures/MannEtal11B.png\" width=400>\n",
    "</center>"
   ]
  },
  {
   "cell_type": "markdown",
   "id": "3d896fcd-cf82-48d6-8865-791567d07634",
   "metadata": {},
   "source": [
    "We'll only look at comparisons within a list and on retrievals where a word that was actually on the list was retrieved"
   ]
  },
  {
   "cell_type": "code",
   "execution_count": 40,
   "id": "c09df4f1-cd97-4b95-94dd-d71c2ed7e1f9",
   "metadata": {},
   "outputs": [],
   "source": [
    "within_list_correct_REC_WORD_rsa_df = raw_REC_WORD_rsa_df.query(\n",
    "    'list_REC_WORD == list_WORD and serialpos_REC_WORD != -999')"
   ]
  },
  {
   "cell_type": "markdown",
   "id": "d45c435c-4be8-45c8-8f8b-d3b76f5b0cd0",
   "metadata": {},
   "source": [
    "Take a look at the `within_list_correct_REC_WORD_rsa_df` and make sure you understand the information that is contained in that dataframe"
   ]
  },
  {
   "cell_type": "markdown",
   "id": "dae98941-2402-4d91-86c6-a9d3c806c5d8",
   "metadata": {},
   "source": [
    "How would you compute the serialpos_lag used in the above plot?"
   ]
  },
  {
   "cell_type": "code",
   "execution_count": null,
   "id": "b9337240-4704-4f30-b417-883f47301764",
   "metadata": {
    "tags": []
   },
   "outputs": [],
   "source": []
  },
  {
   "cell_type": "markdown",
   "id": "51a3567b-f1cf-4f4d-a0a4-dbe4830c503c",
   "metadata": {},
   "source": [
    "Like above, we'll subtract out variance we are not interested in. Here, we will compute relative similarity within each retrieval. We can use the `outpos` column to do that since it indicates each retrieval."
   ]
  },
  {
   "cell_type": "code",
   "execution_count": null,
   "id": "e1b60a69-215e-4b2c-a385-4c2ad8457d49",
   "metadata": {},
   "outputs": [],
   "source": [
    "within_list_correct_REC_WORD_rsa_df['corr_z_outpos_mean'] = within_list_correct_REC_WORD_rsa_df.groupby(\n",
    "    ['subject_WORD', 'session_WORD', 'list_WORD', 'outpos_REC_WORD'])['corr_z'].transform('mean')\n",
    "within_list_correct_REC_WORD_rsa_df['corr_z_outpos_adj'] = (within_list_correct_REC_WORD_rsa_df['corr_z'] - \n",
    "                                                     within_list_correct_REC_WORD_rsa_df['corr_z_outpos_mean'])"
   ]
  },
  {
   "cell_type": "markdown",
   "id": "e0e84aba-fc72-41ab-9e6c-5c2f3f7a66c7",
   "metadata": {},
   "source": [
    "Using that, we get a figure that looks a lot like the one from Manning et al.!"
   ]
  },
  {
   "cell_type": "code",
   "execution_count": null,
   "id": "f45f4385-c082-4dc4-bf56-97fcc1973560",
   "metadata": {},
   "outputs": [],
   "source": [
    "within_list_REC_WORD_rsa_list_df = within_list_correct_REC_WORD_rsa_df.groupby(\n",
    "    ['subject_WORD', 'session_WORD', 'list_WORD', 'serialpos_lag'], as_index=False\n",
    ").agg({'corr_z_outpos_adj': 'mean'})\n",
    "within_list_REC_WORD_rsa_session_df = within_list_REC_WORD_rsa_list_df.groupby(\n",
    "    ['subject_WORD', 'session_WORD', 'serialpos_lag'], as_index=False\n",
    ").agg({'corr_z_outpos_adj': 'mean'})\n",
    "within_list_REC_WORD_rsa_subject_df = within_list_REC_WORD_rsa_session_df.groupby(\n",
    "    ['subject_WORD', 'serialpos_lag'], as_index=False\n",
    ").agg({'corr_z_outpos_adj': 'mean'})"
   ]
  },
  {
   "cell_type": "code",
   "execution_count": null,
   "id": "0001ff04-60dd-4fbf-9671-8030daf99884",
   "metadata": {},
   "outputs": [],
   "source": [
    "g = sns.catplot(y='corr_z_outpos_adj', x='serialpos_lag',\n",
    "            data=within_list_REC_WORD_rsa_subject_df.query(\n",
    "                'serialpos_lag <= 5 and serialpos_lag >= -5'), kind='point')\n",
    "g.set(xlabel='Lag', ylabel='Retrieval-centered $z$-transformed Correlation')"
   ]
  },
  {
   "cell_type": "markdown",
   "id": "2799afbd-0605-480a-955f-1b066adba734",
   "metadata": {},
   "source": [
    "Manning et al. (2012) showed that items that were semantically similar were *also* more similar to the moments just prior to item retrieval. Kragel et al. (2021) also showed that you could decode the category of the item that was about to be retrieved in the moments just before retrieval."
   ]
  },
  {
   "cell_type": "markdown",
   "id": "2a426cc5-0c76-46a3-8655-53764f844532",
   "metadata": {},
   "source": [
    "<center>\n",
    "    <img src=\"figures/KragEtal21_fig3b_cat.png\" width=400>\n",
    "</center>"
   ]
  },
  {
   "cell_type": "markdown",
   "id": "0a4d9c2d-0e9b-4040-8d4a-c66de0be63a4",
   "metadata": {},
   "source": [
    " We are going to try to look at the same thing here. Just like above, make the above plot as a function of both `serialpos_lag` and `same_category`"
   ]
  },
  {
   "cell_type": "code",
   "execution_count": null,
   "id": "bd92dbc8-d08e-4a27-88b2-3da6c724ddf7",
   "metadata": {},
   "outputs": [],
   "source": []
  },
  {
   "cell_type": "markdown",
   "id": "91d4a98d-4df7-4b0b-a711-a712d1796e9d",
   "metadata": {},
   "source": [
    "# Exercise: category similarity during encoding"
   ]
  },
  {
   "cell_type": "markdown",
   "id": "2da42a37-3b86-4d50-8719-d1609888a124",
   "metadata": {},
   "source": [
    "Now try to investigate any other effect you are interested in in this RSA matrix during categorized free recall. Take a look at the available columns and see what interests you. One additional possibility is to replicate [Kuhl et al. (2012)](https://www.sciencedirect.com/science/article/pii/S0028393211004088). They asked subjects to do an image-word cued recall task and investigated neural representations of the images during encoding. They showed that when two images from the same category were both recalled, their Temporal cortext representation was more similar than when they were both forgotten and the opposite when they were from different categories. "
   ]
  },
  {
   "cell_type": "markdown",
   "id": "e9e6b303-7928-41e1-9143-b3ddb2d28ce3",
   "metadata": {},
   "source": [
    "<center>\n",
    "    <img src=\"figures/KuhlEtal12_fig6.jpeg\" width=400>\n",
    "</center>"
   ]
  },
  {
   "cell_type": "markdown",
   "id": "4d5f75fd-dfd4-44ba-9db0-ddb1f1a08544",
   "metadata": {},
   "source": [
    "We have a lot of temporal cortex electrodes so as a first pass we can try to replicate this effect here in the encoding RSA. You might find it useful to create a `pair_recalled` variable like this. It isn't totally straightforward to replicate this due to the structure of our task so play around with it a bit!"
   ]
  },
  {
   "cell_type": "code",
   "execution_count": null,
   "id": "a656cbfe-14bf-40b0-8963-6139c74b0b31",
   "metadata": {},
   "outputs": [],
   "source": [
    "within_list_WORD_rsa_df['pair_recalled'] = within_list_WORD_rsa_df['recalled_WORD'] + within_list_WORD_rsa_df['recalled_WORD2']"
   ]
  },
  {
   "cell_type": "code",
   "execution_count": null,
   "id": "2b985828-44e2-4207-8321-784fd9d93b1b",
   "metadata": {},
   "outputs": [],
   "source": []
  }
 ],
 "metadata": {
  "kernelspec": {
   "display_name": "workshop",
   "language": "python",
   "name": "workshop"
  },
  "language_info": {
   "codemirror_mode": {
    "name": "ipython",
    "version": 3
   },
   "file_extension": ".py",
   "mimetype": "text/x-python",
   "name": "python",
   "nbconvert_exporter": "python",
   "pygments_lexer": "ipython3",
   "version": "3.7.6"
  }
 },
 "nbformat": 4,
 "nbformat_minor": 5
}
